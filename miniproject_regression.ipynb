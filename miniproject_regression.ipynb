{
 "cells": [
  {
   "cell_type": "markdown",
   "metadata": {},
   "source": [
    "## Linear Regression"
   ]
  },
  {
   "cell_type": "markdown",
   "metadata": {},
   "source": [
    "### Predicting time since ketamine administration"
   ]
  },
  {
   "cell_type": "code",
   "execution_count": 1,
   "metadata": {},
   "outputs": [],
   "source": [
    "# packages\n",
    "import os\n",
    "import pandas as pd\n",
    "import math\n",
    "from scipy import io\n",
    "import numpy as np\n",
    "from numpy import squeeze\n",
    "from sklearn import linear_model\n",
    "from sklearn.metrics import mean_squared_error\n",
    "from sklearn.metrics import r2_score\n",
    "from sklearn.model_selection import train_test_split\n",
    "from sklearn.preprocessing import StandardScaler\n",
    "from sklearn.preprocessing import LabelEncoder\n",
    "from sklearn.model_selection import KFold\n",
    "from sklearn.metrics import zero_one_loss\n",
    "from sklearn.metrics import accuracy_score\n",
    "import matplotlib.pyplot as plt\n",
    "from matplotlib import style\n",
    "style.use('ggplot') "
   ]
  },
  {
   "cell_type": "markdown",
   "metadata": {},
   "source": [
    "#### Load in data and perform checks"
   ]
  },
  {
   "cell_type": "code",
   "execution_count": 2,
   "metadata": {},
   "outputs": [],
   "source": [
    "allData = pd.read_csv('postKetamineTable.csv')"
   ]
  },
  {
   "cell_type": "code",
   "execution_count": 3,
   "metadata": {},
   "outputs": [
    {
     "data": {
      "text/plain": [
       "Index(['animalName', 'sessionDate', 'trialNum', 'totalCellNum', 'gender',\n",
       "       'genotype', 'weight_g', 'ketamine_day', 'correlationScore',\n",
       "       'lickAccuracy', 'lickNumber', 'avgFR', 'avgSingleCellVariance',\n",
       "       'varianceFR', 'avgTrialSpeed', 'varianceSpeed', 'medianCellDepth',\n",
       "       'timeSinceKetamine', 'ketamineAdministered'],\n",
       "      dtype='object')"
      ]
     },
     "execution_count": 3,
     "metadata": {},
     "output_type": "execute_result"
    }
   ],
   "source": [
    "allData.keys()"
   ]
  },
  {
   "cell_type": "code",
   "execution_count": 4,
   "metadata": {},
   "outputs": [
    {
     "name": "stdout",
     "output_type": "stream",
     "text": [
      "num_cols = 19\n",
      "num_rows = 5000\n",
      "num_dup = 0\n"
     ]
    }
   ],
   "source": [
    "# Check size information\n",
    "print(\"num_cols =\",len(allData.keys()))\n",
    "print(\"num_rows =\",len(allData))\n",
    "\n",
    "# Check for duplicate rows\n",
    "print(\"num_dup =\",np.sum(pd.DataFrame.duplicated(allData)))"
   ]
  },
  {
   "cell_type": "code",
   "execution_count": 5,
   "metadata": {},
   "outputs": [
    {
     "data": {
      "text/plain": [
       "animalName               0\n",
       "sessionDate              0\n",
       "trialNum                 0\n",
       "totalCellNum             0\n",
       "gender                   0\n",
       "genotype                 0\n",
       "weight_g                 0\n",
       "ketamine_day             0\n",
       "correlationScore         0\n",
       "lickAccuracy             0\n",
       "lickNumber               0\n",
       "avgFR                    0\n",
       "avgSingleCellVariance    0\n",
       "varianceFR               5\n",
       "avgTrialSpeed            0\n",
       "varianceSpeed            0\n",
       "medianCellDepth          0\n",
       "timeSinceKetamine        0\n",
       "ketamineAdministered     0\n",
       "dtype: int64"
      ]
     },
     "execution_count": 5,
     "metadata": {},
     "output_type": "execute_result"
    }
   ],
   "source": [
    "# Check for NaNs and see where they are coming from\n",
    "np.sum(pd.isna(allData))"
   ]
  },
  {
   "cell_type": "code",
   "execution_count": 6,
   "metadata": {},
   "outputs": [
    {
     "name": "stdout",
     "output_type": "stream",
     "text": [
      "After Drop NaN\n",
      "num_rows = 4995\n"
     ]
    }
   ],
   "source": [
    "# Remove any rows with nans (since we have so few)\n",
    "allDataNN = pd.DataFrame.dropna(allData,'index')\n",
    "print(\"After Drop NaN\")\n",
    "print(\"num_rows =\",len(allDataNN))"
   ]
  },
  {
   "cell_type": "code",
   "execution_count": 7,
   "metadata": {},
   "outputs": [],
   "source": [
    "ketBool = allDataNN['ketamineAdministered']\n",
    "timeSinceKetamine = allDataNN['timeSinceKetamine']\n",
    "sessionDate = allDataNN['sessionDate']\n",
    "trialNum = allDataNN['trialNum']\n",
    "neuralData = allDataNN[['animalName', 'totalCellNum',\n",
    "       'gender', 'genotype', 'weight_g',\n",
    "       'ketamine_day', 'correlationScore', 'lickAccuracy',\n",
    "       'lickNumber', 'avgFR', 'avgSingleCellVariance',\n",
    "       'varianceFR', 'avgTrialSpeed', 'varianceSpeed',\n",
    "       'medianCellDepth']]"
   ]
  },
  {
   "cell_type": "code",
   "execution_count": 8,
   "metadata": {},
   "outputs": [],
   "source": [
    "# Convert categorical columns\n",
    "le = LabelEncoder()\n",
    "neuralData_LE = neuralData.copy()\n",
    "neuralData_LE['animalName'] = le.fit_transform(neuralData_LE['animalName'])\n",
    "neuralData_LE['gender'] = le.fit_transform(neuralData_LE['gender'])\n",
    "neuralData_LE['genotype'] = le.fit_transform(neuralData_LE['genotype'])\n",
    "features = list(neuralData_LE.keys())"
   ]
  },
  {
   "cell_type": "code",
   "execution_count": 9,
   "metadata": {},
   "outputs": [
    {
     "name": "stderr",
     "output_type": "stream",
     "text": [
      "/home/browne/anaconda3/lib/python3.7/site-packages/sklearn/preprocessing/data.py:625: DataConversionWarning: Data with input dtype int64, float64 were all converted to float64 by StandardScaler.\n",
      "  return self.partial_fit(X, y)\n",
      "/home/browne/anaconda3/lib/python3.7/site-packages/sklearn/base.py:462: DataConversionWarning: Data with input dtype int64, float64 were all converted to float64 by StandardScaler.\n",
      "  return self.fit(X, **fit_params).transform(X)\n"
     ]
    }
   ],
   "source": [
    "# Standardize data (better to do this after train/test split, but leave here for now)\n",
    "stdNeuralData = StandardScaler().fit_transform(neuralData_LE) "
   ]
  },
  {
   "cell_type": "code",
   "execution_count": 10,
   "metadata": {},
   "outputs": [],
   "source": [
    "# Split off test set for later\n",
    "X, X_test, y, y_test = train_test_split(stdNeuralData,timeSinceKetamine.values.ravel(), test_size=0.2)"
   ]
  },
  {
   "cell_type": "code",
   "execution_count": 11,
   "metadata": {},
   "outputs": [],
   "source": [
    "# Split for cross validation, use 10 folds\n",
    "num_folds = 10\n",
    "XA = np.array(X)\n",
    "yA = np.array(y)\n",
    "X_train = []\n",
    "X_test = []\n",
    "y_train = []\n",
    "y_test = []\n",
    "kf = KFold(n_splits=num_folds)\n",
    "for train_index, test_index in kf.split(XA, yA):\n",
    "    X_train.append(XA[train_index])\n",
    "    X_test.append(XA[test_index])\n",
    "    y_train.append(yA[train_index])\n",
    "    y_test.append(yA[test_index])"
   ]
  },
  {
   "cell_type": "code",
   "execution_count": 12,
   "metadata": {},
   "outputs": [],
   "source": [
    "# Run basic linreg model on full train set, check performance against train\n",
    "model = linear_model.LinearRegression(fit_intercept=True,normalize=False,copy_X=True,n_jobs=None).fit(X,y)"
   ]
  },
  {
   "cell_type": "code",
   "execution_count": 13,
   "metadata": {},
   "outputs": [
    {
     "name": "stdout",
     "output_type": "stream",
     "text": [
      "Intercept:  1875.5526469826927\n",
      "['animalName', 'totalCellNum', 'gender', 'genotype', 'weight_g', 'ketamine_day', 'correlationScore', 'lickAccuracy', 'lickNumber', 'avgFR', 'avgSingleCellVariance', 'varianceFR', 'avgTrialSpeed', 'varianceSpeed', 'medianCellDepth'] [ 116.39000078 -107.51141321 -385.59068284  255.6088727   593.27675056\n",
      " -334.99744817  273.202288    297.93747845   52.95187834 -565.83410337\n",
      "  246.91131644  158.03965144 -424.51338755  332.49527697 -407.19216994]\n",
      "RMSE:  1888.750094922188\n",
      "R2: 0.266587075639684\n"
     ]
    }
   ],
   "source": [
    "print(\"Intercept: \",model.intercept_)\n",
    "print(features,model.coef_)\n",
    "#print(model.coef_)\n",
    "y_pred = model.predict(X)\n",
    "rmse = np.sqrt(mean_squared_error(y,y_pred))\n",
    "r2 = r2_score(y,y_pred)\n",
    "print(\"RMSE: \",rmse)\n",
    "print(\"R2:\",r2)"
   ]
  },
  {
   "cell_type": "code",
   "execution_count": 14,
   "metadata": {},
   "outputs": [
    {
     "name": "stdout",
     "output_type": "stream",
     "text": [
      "0.13743040945871798\n"
     ]
    }
   ],
   "source": [
    "scaled_RMSE = rmse/(max(y)-min(y))\n",
    "print(scaled_RMSE)"
   ]
  },
  {
   "cell_type": "code",
   "execution_count": 15,
   "metadata": {},
   "outputs": [
    {
     "name": "stdout",
     "output_type": "stream",
     "text": [
      "Average RMSE across Folds: 1896.8814177215384\n",
      "Average Scaled RMSE across Folds: 0.13802206582700094\n"
     ]
    }
   ],
   "source": [
    "rmse_cv = []\n",
    "for i in range(0,num_folds):\n",
    "    model = linear_model.LinearRegression(fit_intercept=True,normalize=False,copy_X=True,n_jobs=None).fit(X_train[i],y_train[i])\n",
    "    y_pred = model.predict(X_test[i])\n",
    "    rmse_cv.append(np.sqrt(mean_squared_error(y_test[i],y_pred)))\n",
    "print(\"Average RMSE across Folds:\",np.mean(rmse_cv))\n",
    "print(\"Average Scaled RMSE across Folds:\",np.mean(rmse_cv)/(max(y)-min(y)))"
   ]
  },
  {
   "cell_type": "markdown",
   "metadata": {},
   "source": [
    "##### Reduced model without metadata"
   ]
  },
  {
   "cell_type": "code",
   "execution_count": 16,
   "metadata": {},
   "outputs": [
    {
     "name": "stdout",
     "output_type": "stream",
     "text": [
      "Intercept (R):  1866.8551352336037\n",
      "['correlationScore', 'lickAccuracy', 'lickNumber', 'avgFR', 'avgSingleCellVariance', 'varianceFR', 'avgTrialSpeed', 'varianceSpeed'] [ 2.85641140e+02  3.50092949e+02 -9.74898616e-02 -7.38194918e+02\n",
      "  3.08547617e+02  3.62499593e+02 -4.49027237e+02  1.07440771e+02]\n",
      "RMSE (R):  1979.1121765677885\n",
      "R2: 0.1728733008903981\n"
     ]
    },
    {
     "name": "stderr",
     "output_type": "stream",
     "text": [
      "/home/browne/anaconda3/lib/python3.7/site-packages/sklearn/preprocessing/data.py:625: DataConversionWarning: Data with input dtype int64, float64 were all converted to float64 by StandardScaler.\n",
      "  return self.partial_fit(X, y)\n",
      "/home/browne/anaconda3/lib/python3.7/site-packages/sklearn/base.py:462: DataConversionWarning: Data with input dtype int64, float64 were all converted to float64 by StandardScaler.\n",
      "  return self.fit(X, **fit_params).transform(X)\n"
     ]
    }
   ],
   "source": [
    "neuralDataR = allDataNN[['correlationScore','lickAccuracy',\n",
    "       'lickNumber', 'avgFR', 'avgSingleCellVariance',\n",
    "       'varianceFR', 'avgTrialSpeed', 'varianceSpeed',]]\n",
    "featuresR = list(neuralDataR.keys())\n",
    "stdNeuralDataR = StandardScaler().fit_transform(neuralDataR) \n",
    "\n",
    "# Split off test set for later\n",
    "XR, XR_test, yR, yR_test = train_test_split(stdNeuralDataR,timeSinceKetamine.values.ravel(), test_size=0.2)\n",
    "\n",
    "# Split for cross validation, use 10 folds\n",
    "num_folds = 10\n",
    "XAR = np.array(XR)\n",
    "yAR = np.array(yR)\n",
    "XR_train = []\n",
    "XR_test = []\n",
    "yR_train = []\n",
    "yR_test = []\n",
    "kfR = KFold(n_splits=num_folds)\n",
    "for train_index, test_index in kfR.split(XAR, yAR):\n",
    "    XR_train.append(XAR[train_index])\n",
    "    XR_test.append(XAR[test_index])\n",
    "    yR_train.append(yAR[train_index])\n",
    "    yR_test.append(yAR[test_index])\n",
    "    \n",
    "# Run basic linreg model on full train set, check performance against train\n",
    "modelR = linear_model.LinearRegression(fit_intercept=True,normalize=False,copy_X=True,n_jobs=None).fit(XR,yR)\n",
    "print(\"Intercept (R): \",modelR.intercept_)\n",
    "print(featuresR,modelR.coef_)\n",
    "#print(model.coef_)\n",
    "yR_pred = modelR.predict(XR)\n",
    "rmseR = np.sqrt(mean_squared_error(yR,yR_pred))\n",
    "print(\"RMSE (R): \",rmseR)\n",
    "r2 = r2_score(yR,yR_pred)\n",
    "print(\"R2:\",r2)"
   ]
  },
  {
   "cell_type": "code",
   "execution_count": 17,
   "metadata": {},
   "outputs": [
    {
     "name": "stdout",
     "output_type": "stream",
     "text": [
      "Average RMSE across Folds: 1980.4627729868957\n",
      "Average Scaled RMSE across Folds: 0.1441036643974597\n"
     ]
    }
   ],
   "source": [
    "rmse_cv = []\n",
    "for i in range(0,num_folds):\n",
    "    model = linear_model.LinearRegression(fit_intercept=True,normalize=False,copy_X=True,n_jobs=None).fit(XR_train[i],yR_train[i])\n",
    "    yR_pred = model.predict(XR_test[i])\n",
    "    rmse_cv.append(np.sqrt(mean_squared_error(yR_test[i],yR_pred)))\n",
    "print(\"Average RMSE across Folds:\",np.mean(rmse_cv))\n",
    "print(\"Average Scaled RMSE across Folds:\",np.mean(rmse_cv)/(max(y)-min(y)))"
   ]
  },
  {
   "cell_type": "markdown",
   "metadata": {},
   "source": [
    "##### Now let's try ridge regression"
   ]
  },
  {
   "cell_type": "code",
   "execution_count": 18,
   "metadata": {},
   "outputs": [],
   "source": [
    "# Run ridge reg model on full train set, check performance against train\n",
    "model = linear_model.Ridge(alpha=1.0,fit_intercept=True,normalize=False,copy_X=True).fit(X,y)"
   ]
  },
  {
   "cell_type": "code",
   "execution_count": 19,
   "metadata": {},
   "outputs": [
    {
     "name": "stdout",
     "output_type": "stream",
     "text": [
      "Intercept:  1875.5523803577441\n",
      "['animalName', 'totalCellNum', 'gender', 'genotype', 'weight_g', 'ketamine_day', 'correlationScore', 'lickAccuracy', 'lickNumber', 'avgFR', 'avgSingleCellVariance', 'varianceFR', 'avgTrialSpeed', 'varianceSpeed', 'medianCellDepth'] [ 116.05161068 -107.59518654 -384.96510542  255.55940287  592.87310499\n",
      " -335.0552752   273.13536383  297.91140757   53.02568185 -565.07082578\n",
      "  246.20447515  157.95379817 -424.34788686  332.23274974 -407.01262592]\n",
      "RMSE:  1888.7501860267903\n",
      "R2: 0.2665870048867617\n"
     ]
    }
   ],
   "source": [
    "print(\"Intercept: \",model.intercept_)\n",
    "print(features,model.coef_)\n",
    "#print(model.coef_)\n",
    "y_pred = model.predict(X)\n",
    "rmse = np.sqrt(mean_squared_error(y,y_pred))\n",
    "r2 = r2_score(y,y_pred)\n",
    "print(\"RMSE: \",rmse)\n",
    "print(\"R2:\",r2)"
   ]
  },
  {
   "cell_type": "code",
   "execution_count": 20,
   "metadata": {},
   "outputs": [
    {
     "name": "stdout",
     "output_type": "stream",
     "text": [
      "Average RMSE across Folds: 1886.3371253540033\n",
      "Average Scaled RMSE across Folds: 0.137254835465812\n"
     ]
    }
   ],
   "source": [
    "rmse_cv = []\n",
    "for i in range(0,num_folds):\n",
    "    model = linear_model.Ridge(alpha=1.0,fit_intercept=True,normalize=False,copy_X=True).fit(X,y)\n",
    "    y_pred = model.predict(X_test[i])\n",
    "    rmse_cv.append(np.sqrt(mean_squared_error(y_test[i],y_pred)))\n",
    "print(\"Average RMSE across Folds:\",np.mean(rmse_cv))\n",
    "print(\"Average Scaled RMSE across Folds:\",np.mean(rmse_cv)/(max(y)-min(y)))"
   ]
  },
  {
   "cell_type": "markdown",
   "metadata": {},
   "source": [
    "##### Now let's try Lasso"
   ]
  },
  {
   "cell_type": "code",
   "execution_count": 21,
   "metadata": {},
   "outputs": [],
   "source": [
    "# Run ridge reg model on full train set, check performance against train\n",
    "model = linear_model.Lasso(alpha=1.0,fit_intercept=True,normalize=False,copy_X=True).fit(X,y)"
   ]
  },
  {
   "cell_type": "code",
   "execution_count": 22,
   "metadata": {},
   "outputs": [
    {
     "name": "stdout",
     "output_type": "stream",
     "text": [
      "Intercept:  1875.5454711595385\n",
      "['animalName', 'totalCellNum', 'gender', 'genotype', 'weight_g', 'ketamine_day', 'correlationScore', 'lickAccuracy', 'lickNumber', 'avgFR', 'avgSingleCellVariance', 'varianceFR', 'avgTrialSpeed', 'varianceSpeed', 'medianCellDepth'] [ 107.05750859 -105.96339335 -377.42288644  253.98555583  591.82907158\n",
      " -335.11019238  272.21286063  297.29931949   52.3577342  -558.60824522\n",
      "  240.30263364  157.1553639  -423.37343729  330.36717974 -405.44074031]\n",
      "RMSE:  1888.7617792065917\n",
      "R2: 0.2665780014570033\n"
     ]
    }
   ],
   "source": [
    "print(\"Intercept: \",model.intercept_)\n",
    "print(features,model.coef_)\n",
    "#print(model.coef_)\n",
    "y_pred = model.predict(X)\n",
    "rmse = np.sqrt(mean_squared_error(y,y_pred))\n",
    "r2 = r2_score(y,y_pred)\n",
    "print(\"RMSE: \",rmse)\n",
    "print(\"R2:\",r2)"
   ]
  },
  {
   "cell_type": "code",
   "execution_count": 23,
   "metadata": {},
   "outputs": [
    {
     "name": "stdout",
     "output_type": "stream",
     "text": [
      "Average RMSE across Folds: 1886.3371253540033\n",
      "Average Scaled RMSE across Folds: 0.137254835465812\n"
     ]
    }
   ],
   "source": [
    "rmse_cv = []\n",
    "for i in range(0,num_folds):\n",
    "    model = linear_model.Ridge(alpha=1.0,fit_intercept=True,normalize=False,copy_X=True).fit(X,y)\n",
    "    y_pred = model.predict(X_test[i])\n",
    "    rmse_cv.append(np.sqrt(mean_squared_error(y_test[i],y_pred)))\n",
    "print(\"Average RMSE across Folds:\",np.mean(rmse_cv))\n",
    "print(\"Average Scaled RMSE across Folds:\",np.mean(rmse_cv)/(max(y)-min(y)))"
   ]
  },
  {
   "cell_type": "markdown",
   "metadata": {},
   "source": [
    "##### Now let's try with some second order interaction terms"
   ]
  },
  {
   "cell_type": "code",
   "execution_count": 24,
   "metadata": {},
   "outputs": [
    {
     "data": {
      "text/plain": [
       "Index(['animalName', 'totalCellNum', 'gender', 'genotype', 'weight_g',\n",
       "       'ketamine_day', 'correlationScore', 'lickAccuracy', 'lickNumber',\n",
       "       'avgFR', 'avgSingleCellVariance', 'varianceFR', 'avgTrialSpeed',\n",
       "       'varianceSpeed', 'medianCellDepth'],\n",
       "      dtype='object')"
      ]
     },
     "execution_count": 24,
     "metadata": {},
     "output_type": "execute_result"
    }
   ],
   "source": [
    "AugData = neuralData_LE.copy()\n",
    "AugData.keys()"
   ]
  },
  {
   "cell_type": "code",
   "execution_count": 25,
   "metadata": {},
   "outputs": [],
   "source": [
    "primaryF = ['correlationScore', 'lickAccuracy', 'lickNumber',\n",
    "       'avgFR', 'avgSingleCellVariance', 'varianceFR', 'avgTrialSpeed',\n",
    "       'varianceSpeed']\n",
    "secondaryF = ['animalName', 'totalCellNum', 'gender', 'genotype', 'weight_g',\n",
    "       'ketamine_day','medianCellDepth']"
   ]
  },
  {
   "cell_type": "code",
   "execution_count": 26,
   "metadata": {},
   "outputs": [],
   "source": [
    "AugData['animalNamexCorrelationScore'] = AugData['animalName']*AugData['correlationScore']\n",
    "AugData['animalNamexLickAccuracy'] = AugData['animalName']*AugData['lickAccuracy']\n",
    "AugData['animalNamexLickNumber'] = AugData['animalName']*AugData['lickNumber']\n",
    "AugData['animalNamexAvgFR'] = AugData['animalName']*AugData['avgFR']\n",
    "AugData['animalNamexAvgSingleCellVariance'] = AugData['animalName']*AugData['avgSingleCellVariance']\n",
    "AugData['animalNamexVarianceFR'] = AugData['animalName']*AugData['varianceFR']\n",
    "AugData['animalNamexAvgTrialSpeed'] = AugData['animalName']*AugData['avgTrialSpeed']\n",
    "AugData['animalNamexVarianceSpeed'] = AugData['animalName']*AugData['varianceSpeed']"
   ]
  },
  {
   "cell_type": "code",
   "execution_count": 27,
   "metadata": {},
   "outputs": [],
   "source": [
    "AugData['totalCellNumxCorrelationScore'] = AugData['totalCellNum']*AugData['correlationScore']\n",
    "AugData['totalCellNumxLickAccuracy'] = AugData['totalCellNum']*AugData['lickAccuracy']\n",
    "AugData['totalCellNumxLickNumber'] = AugData['totalCellNum']*AugData['lickNumber']\n",
    "AugData['totalCellNumxAvgFR'] = AugData['totalCellNum']*AugData['avgFR']\n",
    "AugData['totalCellNumxAvgSingleCellVariance'] = AugData['totalCellNum']*AugData['avgSingleCellVariance']\n",
    "AugData['totalCellNumxVarianceFR'] = AugData['totalCellNum']*AugData['varianceFR']\n",
    "AugData['totalCellNumxAvgTrialSpeed'] = AugData['totalCellNum']*AugData['avgTrialSpeed']\n",
    "AugData['totalCellNumxVarianceSpeed'] = AugData['totalCellNum']*AugData['varianceSpeed']"
   ]
  },
  {
   "cell_type": "code",
   "execution_count": 28,
   "metadata": {},
   "outputs": [],
   "source": [
    "AugData['genderxCorrelationScore'] = AugData['gender']*AugData['correlationScore']\n",
    "AugData['genderxLickAccuracy'] = AugData['gender']*AugData['lickAccuracy']\n",
    "AugData['genderxLickNumber'] = AugData['gender']*AugData['lickNumber']\n",
    "AugData['genderxAvgFR'] = AugData['gender']*AugData['avgFR']\n",
    "AugData['genderxAvgSingleCellVariance'] = AugData['gender']*AugData['avgSingleCellVariance']\n",
    "AugData['genderxVarianceFR'] = AugData['gender']*AugData['varianceFR']\n",
    "AugData['genderxAvgTrialSpeed'] = AugData['gender']*AugData['avgTrialSpeed']\n",
    "AugData['genderxVarianceSpeed'] = AugData['gender']*AugData['varianceSpeed']"
   ]
  },
  {
   "cell_type": "code",
   "execution_count": 29,
   "metadata": {},
   "outputs": [],
   "source": [
    "AugData['genotypexCorrelationScore'] = AugData['genotype']*AugData['correlationScore']\n",
    "AugData['genotypexLickAccuracy'] = AugData['genotype']*AugData['lickAccuracy']\n",
    "AugData['genotypexLickNumber'] = AugData['genotype']*AugData['lickNumber']\n",
    "AugData['genotypexAvgFR'] = AugData['genotype']*AugData['avgFR']\n",
    "AugData['genotypexAvgSingleCellVariance'] = AugData['genotype']*AugData['avgSingleCellVariance']\n",
    "AugData['genotypexVarianceFR'] = AugData['genotype']*AugData['varianceFR']\n",
    "AugData['genotypexAvgTrialSpeed'] = AugData['genotype']*AugData['avgTrialSpeed']\n",
    "AugData['genotypexVarianceSpeed'] = AugData['genotype']*AugData['varianceSpeed']"
   ]
  },
  {
   "cell_type": "code",
   "execution_count": 30,
   "metadata": {},
   "outputs": [],
   "source": [
    "AugData['weight_gxCorrelationScore'] = AugData['weight_g']*AugData['correlationScore']\n",
    "AugData['weight_gxLickAccuracy'] = AugData['weight_g']*AugData['lickAccuracy']\n",
    "AugData['weight_gxLickNumber'] = AugData['weight_g']*AugData['lickNumber']\n",
    "AugData['weight_gxAvgFR'] = AugData['weight_g']*AugData['avgFR']\n",
    "AugData['weight_gxAvgSingleCellVariance'] = AugData['weight_g']*AugData['avgSingleCellVariance']\n",
    "AugData['weight_gxVarianceFR'] = AugData['weight_g']*AugData['varianceFR']\n",
    "AugData['weight_gxAvgTrialSpeed'] = AugData['weight_g']*AugData['avgTrialSpeed']\n",
    "AugData['weight_gxVarianceSpeed'] = AugData['weight_g']*AugData['varianceSpeed']"
   ]
  },
  {
   "cell_type": "code",
   "execution_count": 31,
   "metadata": {},
   "outputs": [],
   "source": [
    "AugData['ketamine_dayxCorrelationScore'] = AugData['ketamine_day']*AugData['correlationScore']\n",
    "AugData['ketamine_dayxLickAccuracy'] = AugData['ketamine_day']*AugData['lickAccuracy']\n",
    "AugData['ketamine_dayxLickNumber'] = AugData['ketamine_day']*AugData['lickNumber']\n",
    "AugData['ketamine_dayxAvgFR'] = AugData['ketamine_day']*AugData['avgFR']\n",
    "AugData['ketamine_dayxAvgSingleCellVariance'] = AugData['ketamine_day']*AugData['avgSingleCellVariance']\n",
    "AugData['ketamine_dayxVarianceFR'] = AugData['ketamine_day']*AugData['varianceFR']\n",
    "AugData['ketamine_dayxAvgTrialSpeed'] = AugData['ketamine_day']*AugData['avgTrialSpeed']\n",
    "AugData['ketamine_dayxVarianceSpeed'] = AugData['ketamine_day']*AugData['varianceSpeed']"
   ]
  },
  {
   "cell_type": "code",
   "execution_count": 32,
   "metadata": {},
   "outputs": [],
   "source": [
    "AugData['medianCellDepthxCorrelationScore'] = AugData['medianCellDepth']*AugData['correlationScore']\n",
    "AugData['medianCellDepthxLickAccuracy'] = AugData['medianCellDepth']*AugData['lickAccuracy']\n",
    "AugData['medianCellDepthxLickNumber'] = AugData['medianCellDepth']*AugData['lickNumber']\n",
    "AugData['medianCellDepthxAvgFR'] = AugData['medianCellDepth']*AugData['avgFR']\n",
    "AugData['medianCellDepthxAvgSingleCellVariance'] = AugData['medianCellDepth']*AugData['avgSingleCellVariance']\n",
    "AugData['medianCellDepthxVarianceFR'] = AugData['medianCellDepth']*AugData['varianceFR']\n",
    "AugData['medianCellDepthxAvgTrialSpeed'] = AugData['medianCellDepth']*AugData['avgTrialSpeed']\n",
    "AugData['medianCellDepthxVarianceSpeed'] = AugData['medianCellDepth']*AugData['varianceSpeed']"
   ]
  },
  {
   "cell_type": "code",
   "execution_count": 33,
   "metadata": {},
   "outputs": [
    {
     "name": "stderr",
     "output_type": "stream",
     "text": [
      "/home/browne/anaconda3/lib/python3.7/site-packages/sklearn/preprocessing/data.py:625: DataConversionWarning: Data with input dtype int64, float64 were all converted to float64 by StandardScaler.\n",
      "  return self.partial_fit(X, y)\n",
      "/home/browne/anaconda3/lib/python3.7/site-packages/sklearn/base.py:462: DataConversionWarning: Data with input dtype int64, float64 were all converted to float64 by StandardScaler.\n",
      "  return self.fit(X, **fit_params).transform(X)\n"
     ]
    }
   ],
   "source": [
    "# Standardize data\n",
    "stdNeuralDataAug = StandardScaler().fit_transform(AugData) "
   ]
  },
  {
   "cell_type": "code",
   "execution_count": 34,
   "metadata": {},
   "outputs": [],
   "source": [
    "# Split off test set for later\n",
    "X, X_test, y, y_test = train_test_split(stdNeuralDataAug,timeSinceKetamine.values.ravel(), test_size=0.2)"
   ]
  },
  {
   "cell_type": "code",
   "execution_count": 35,
   "metadata": {},
   "outputs": [],
   "source": [
    "# Split for cross validation, use 10 folds\n",
    "num_folds = 10\n",
    "XA = np.array(X)\n",
    "yA = np.array(y)\n",
    "X_train = []\n",
    "X_test = []\n",
    "y_train = []\n",
    "y_test = []\n",
    "kf = KFold(n_splits=num_folds)\n",
    "for train_index, test_index in kf.split(XA, yA):\n",
    "    X_train.append(XA[train_index])\n",
    "    X_test.append(XA[test_index])\n",
    "    y_train.append(yA[train_index])\n",
    "    y_test.append(yA[test_index])"
   ]
  },
  {
   "cell_type": "code",
   "execution_count": 37,
   "metadata": {},
   "outputs": [
    {
     "name": "stdout",
     "output_type": "stream",
     "text": [
      "Intercept:  1886.4426242624386\n",
      "['animalName', 'totalCellNum', 'gender', 'genotype', 'weight_g', 'ketamine_day', 'correlationScore', 'lickAccuracy', 'lickNumber', 'avgFR', 'avgSingleCellVariance', 'varianceFR', 'avgTrialSpeed', 'varianceSpeed', 'medianCellDepth'] [ 1.37114374e+03 -9.22880395e+02 -2.16761491e+03  6.81732307e+02\n",
      "  6.94932421e+02 -2.00138064e+03 -7.41255090e+02  9.98187612e+02\n",
      "  7.73511118e+01 -3.49017908e+03  1.08537237e+03  1.56594626e+03\n",
      " -2.02352013e+03  3.38116018e+01 -1.60264196e+03  2.82006203e+02\n",
      "  2.77357710e+02 -7.95134032e+01 -1.16562069e+03  3.33957317e+02\n",
      "  2.50406452e+02 -1.02226721e+03 -6.12920023e+02  4.49963248e+02\n",
      " -4.48566775e+02 -3.31209912e+02  3.46498599e+02  2.94644264e+02\n",
      "  2.25828349e+00  4.36554638e+02  5.16016461e+01 -9.96179326e+02\n",
      "  2.53999519e+02  4.79809858e+02 -1.70155455e+03  3.54354736e+03\n",
      " -6.24276994e+02  1.41410517e+03 -3.16568222e+02  3.16164003e+00\n",
      "  2.24124030e+02  1.16736095e+02 -2.02186504e+03  2.66185980e+03\n",
      " -7.22050274e+02  1.58979282e+02 -3.64410817e+02  1.00338348e+03\n",
      " -5.64145751e+02 -2.67100012e+02  2.24078613e+03 -5.79885785e+03\n",
      "  7.49504587e+02  8.13944545e+02  1.16465179e+03  2.72286725e+02\n",
      " -2.19418980e+02  5.14814870e-01  2.53760792e+03 -4.80368714e+02\n",
      " -6.48964355e+02  9.06101556e+02 -5.64913063e+02 -7.84416456e+01\n",
      " -2.60890014e+02  3.43760092e+02  1.31253637e+03  1.95389876e+03\n",
      " -6.71220807e+02  1.39763531e+02  3.94284963e+02]\n",
      "RMSE:  1507.5199246241216\n",
      "R2: 0.5385964411869812\n",
      "0.10945520162173956\n"
     ]
    }
   ],
   "source": [
    "# Run basic linreg model on full train set, check performance against train\n",
    "model = linear_model.LinearRegression(fit_intercept=True,normalize=False,copy_X=True,n_jobs=None).fit(X,y)\n",
    "\n",
    "print(\"Intercept: \",model.intercept_)\n",
    "print(features,model.coef_)\n",
    "#print(model.coef_)\n",
    "y_pred = model.predict(X)\n",
    "rmse = np.sqrt(mean_squared_error(y,y_pred))\n",
    "r2 = r2_score(y,y_pred)\n",
    "print(\"RMSE: \",rmse)\n",
    "print(\"R2:\",r2)\n",
    "\n",
    "scaled_RMSE = rmse/(max(y)-min(y))\n",
    "print(scaled_RMSE)"
   ]
  },
  {
   "cell_type": "code",
   "execution_count": 38,
   "metadata": {},
   "outputs": [
    {
     "name": "stdout",
     "output_type": "stream",
     "text": [
      "Average RMSE across Folds: 1505.5534542864068\n",
      "Average Scaled RMSE across Folds: 0.10931242380250018\n"
     ]
    }
   ],
   "source": [
    "rmse_cv = []\n",
    "for i in range(0,num_folds):\n",
    "    model = linear_model.LinearRegression(fit_intercept=True,normalize=False,copy_X=True,n_jobs=None).fit(X,y)\n",
    "    y_pred = model.predict(X_test[i])\n",
    "    rmse_cv.append(np.sqrt(mean_squared_error(y_test[i],y_pred)))\n",
    "print(\"Average RMSE across Folds:\",np.mean(rmse_cv))\n",
    "print(\"Average Scaled RMSE across Folds:\",np.mean(rmse_cv)/(max(y)-min(y)))"
   ]
  },
  {
   "cell_type": "markdown",
   "metadata": {},
   "source": [
    "##### Try Ridge reg on the augmented data set"
   ]
  },
  {
   "cell_type": "code",
   "execution_count": 39,
   "metadata": {},
   "outputs": [
    {
     "name": "stdout",
     "output_type": "stream",
     "text": [
      "Intercept:  1885.9692921057788\n",
      "['animalName', 'totalCellNum', 'gender', 'genotype', 'weight_g', 'ketamine_day', 'correlationScore', 'lickAccuracy', 'lickNumber', 'avgFR', 'avgSingleCellVariance', 'varianceFR', 'avgTrialSpeed', 'varianceSpeed', 'medianCellDepth'] [ 1.04366004e+03 -8.22468384e+02 -2.08658523e+03  6.12975416e+02\n",
      "  9.46265334e+02 -1.92337202e+03 -7.10892211e+02  9.69052141e+02\n",
      "  6.23910437e+01 -2.38972100e+03 -1.53221962e+01  1.44896693e+03\n",
      " -1.96195205e+03  1.21175989e+02 -1.59739770e+03  2.73953761e+02\n",
      "  2.66364744e+02 -7.42714112e+01 -7.22889290e+02  3.21529029e+02\n",
      "  2.24748624e+02 -9.46583248e+02 -5.88165344e+02  4.32428193e+02\n",
      " -4.45393861e+02 -3.37463559e+02  2.48281710e+02  2.93975600e+02\n",
      "  7.13368365e+00  4.19712852e+02  5.27167173e+01 -9.95114365e+02\n",
      "  2.58754056e+02  4.76395068e+02 -1.43316063e+03  3.12156043e+03\n",
      " -6.10730834e+02  1.35823080e+03 -2.86308944e+02 -7.94780067e-01\n",
      "  2.21747066e+02  1.22102917e+02 -1.86443366e+03  2.59755069e+03\n",
      " -7.15259483e+02  1.51032959e+02 -3.45183074e+02  1.01640809e+03\n",
      " -5.27188392e+02 -2.59250573e+02  7.81767377e+02 -4.49419230e+03\n",
      "  7.84014835e+02  7.34234760e+02  1.06284448e+03  2.50629679e+02\n",
      " -2.12112836e+02  1.30664538e+01  2.34969558e+03 -4.49724033e+02\n",
      " -5.81475559e+02  9.25947211e+02 -5.90494330e+02 -9.19729103e+01\n",
      " -2.67249426e+02  3.35043431e+02  1.42053060e+03  1.77402819e+03\n",
      " -6.41475428e+02  1.24623206e+02  3.94120028e+02]\n",
      "RMSE:  1508.68442471356\n",
      "R2: 0.5378833335191369\n",
      "0.10953975147743039\n"
     ]
    }
   ],
   "source": [
    "# Run basic linreg model on full train set, check performance against train\n",
    "model = linear_model.Ridge(alpha=1.0,fit_intercept=True,normalize=False,copy_X=True).fit(X,y)\n",
    "print(\"Intercept: \",model.intercept_)\n",
    "print(features,model.coef_)\n",
    "#print(model.coef_)\n",
    "y_pred = model.predict(X)\n",
    "rmse = np.sqrt(mean_squared_error(y,y_pred))\n",
    "r2 = r2_score(y,y_pred)\n",
    "print(\"RMSE: \",rmse)\n",
    "print(\"R2:\",r2)\n",
    "\n",
    "scaled_RMSE = rmse/(max(y)-min(y))\n",
    "print(scaled_RMSE)"
   ]
  },
  {
   "cell_type": "code",
   "execution_count": 40,
   "metadata": {},
   "outputs": [
    {
     "name": "stdout",
     "output_type": "stream",
     "text": [
      "Average RMSE across Folds: 1506.7402041759663\n",
      "Average Scaled RMSE across Folds: 0.10939858913027765\n"
     ]
    }
   ],
   "source": [
    "rmse_cv = []\n",
    "for i in range(0,num_folds):\n",
    "    model = linear_model.Ridge(alpha=1.0,fit_intercept=True,normalize=False,copy_X=True).fit(X,y)\n",
    "    y_pred = model.predict(X_test[i])\n",
    "    rmse_cv.append(np.sqrt(mean_squared_error(y_test[i],y_pred)))\n",
    "print(\"Average RMSE across Folds:\",np.mean(rmse_cv))\n",
    "print(\"Average Scaled RMSE across Folds:\",np.mean(rmse_cv)/(max(y)-min(y)))"
   ]
  },
  {
   "cell_type": "markdown",
   "metadata": {},
   "source": [
    "##### Let's try a different augmentation"
   ]
  },
  {
   "cell_type": "code",
   "execution_count": 41,
   "metadata": {},
   "outputs": [
    {
     "data": {
      "text/plain": [
       "Index(['animalName', 'totalCellNum', 'gender', 'genotype', 'weight_g',\n",
       "       'ketamine_day', 'correlationScore', 'lickAccuracy', 'lickNumber',\n",
       "       'avgFR', 'avgSingleCellVariance', 'varianceFR', 'avgTrialSpeed',\n",
       "       'varianceSpeed', 'medianCellDepth'],\n",
       "      dtype='object')"
      ]
     },
     "execution_count": 41,
     "metadata": {},
     "output_type": "execute_result"
    }
   ],
   "source": [
    "AugData2 = neuralData_LE.copy()\n",
    "AugData2.keys()"
   ]
  },
  {
   "cell_type": "code",
   "execution_count": 42,
   "metadata": {},
   "outputs": [],
   "source": [
    "AugData2['corrScoreSq'] = AugData2['correlationScore']*AugData2['correlationScore']\n",
    "AugData2['avgTrialSpeedSq'] = AugData2['avgTrialSpeed']*AugData2['avgTrialSpeed']\n",
    "AugData2['avgFRSQ'] = AugData2['avgFR']*AugData2['avgFR']\n"
   ]
  },
  {
   "cell_type": "code",
   "execution_count": 43,
   "metadata": {},
   "outputs": [
    {
     "name": "stderr",
     "output_type": "stream",
     "text": [
      "/home/browne/anaconda3/lib/python3.7/site-packages/sklearn/preprocessing/data.py:625: DataConversionWarning: Data with input dtype int64, float64 were all converted to float64 by StandardScaler.\n",
      "  return self.partial_fit(X, y)\n",
      "/home/browne/anaconda3/lib/python3.7/site-packages/sklearn/base.py:462: DataConversionWarning: Data with input dtype int64, float64 were all converted to float64 by StandardScaler.\n",
      "  return self.fit(X, **fit_params).transform(X)\n"
     ]
    }
   ],
   "source": [
    "# Standardize data\n",
    "stdNeuralDataAug2 = StandardScaler().fit_transform(AugData2) \n",
    "# Split off test set for later\n",
    "X, X_test, y, y_test = train_test_split(stdNeuralDataAug2,timeSinceKetamine.values.ravel(), test_size=0.2)\n",
    "\n",
    "# Split for cross validation, use 10 folds\n",
    "num_folds = 10\n",
    "XA = np.array(X)\n",
    "yA = np.array(y)\n",
    "X_train = []\n",
    "X_test = []\n",
    "y_train = []\n",
    "y_test = []\n",
    "kf = KFold(n_splits=num_folds)\n",
    "for train_index, test_index in kf.split(XA, yA):\n",
    "    X_train.append(XA[train_index])\n",
    "    X_test.append(XA[test_index])\n",
    "    y_train.append(yA[train_index])\n",
    "    y_test.append(yA[test_index])"
   ]
  },
  {
   "cell_type": "code",
   "execution_count": 44,
   "metadata": {},
   "outputs": [
    {
     "name": "stdout",
     "output_type": "stream",
     "text": [
      "Intercept:  1888.1720751052355\n",
      "['animalName', 'totalCellNum', 'gender', 'genotype', 'weight_g', 'ketamine_day', 'correlationScore', 'lickAccuracy', 'lickNumber', 'avgFR', 'avgSingleCellVariance', 'varianceFR', 'avgTrialSpeed', 'varianceSpeed', 'medianCellDepth'] [   -8.4902276    -19.45701449  -387.48146005   140.3208147\n",
      "   600.39566312  -317.84486377   446.11577529   287.33205658\n",
      "    36.55730237 -1318.87722509   -47.28339046   175.56657687\n",
      "  -657.38999423   324.11341399  -434.12796164  -255.71402409\n",
      "   299.65632484  1052.76693917]\n",
      "RMSE:  1870.780049294536\n",
      "R2: 0.279570492829024\n",
      "0.135837020651291\n"
     ]
    }
   ],
   "source": [
    "# Run basic linreg model on full train set, check performance against train\n",
    "model = linear_model.LinearRegression(fit_intercept=True,normalize=False,copy_X=True,n_jobs=None).fit(X,y)\n",
    "\n",
    "print(\"Intercept: \",model.intercept_)\n",
    "print(features,model.coef_)\n",
    "#print(model.coef_)\n",
    "y_pred = model.predict(X)\n",
    "rmse = np.sqrt(mean_squared_error(y,y_pred))\n",
    "r2 = r2_score(y,y_pred)\n",
    "print(\"RMSE: \",rmse)\n",
    "print(\"R2:\",r2)\n",
    "\n",
    "scaled_RMSE = rmse/(max(y)-min(y))\n",
    "print(scaled_RMSE)"
   ]
  },
  {
   "cell_type": "code",
   "execution_count": 45,
   "metadata": {},
   "outputs": [
    {
     "name": "stdout",
     "output_type": "stream",
     "text": [
      "Average RMSE across Folds: 1863.797827017103\n",
      "Average Scaled RMSE across Folds: 0.1353300426812997\n"
     ]
    }
   ],
   "source": [
    "rmse_cv = []\n",
    "for i in range(0,num_folds):\n",
    "    model = linear_model.LinearRegression(fit_intercept=True,normalize=False,copy_X=True,n_jobs=None).fit(X,y)\n",
    "    y_pred = model.predict(X_test[i])\n",
    "    rmse_cv.append(np.sqrt(mean_squared_error(y_test[i],y_pred)))\n",
    "print(\"Average RMSE across Folds:\",np.mean(rmse_cv))\n",
    "print(\"Average Scaled RMSE across Folds:\",np.mean(rmse_cv)/(max(y)-min(y)))"
   ]
  },
  {
   "cell_type": "markdown",
   "metadata": {},
   "source": [
    "##### Another augmentation yet"
   ]
  },
  {
   "cell_type": "code",
   "execution_count": 46,
   "metadata": {},
   "outputs": [],
   "source": [
    "AugData3 = neuralData_LE.copy()\n",
    "\n",
    "AugData3['corrScoreCu'] = AugData3['correlationScore']*AugData3['correlationScore']*AugData3['correlationScore']\n",
    "AugData3['avgTrialSpeedCu'] = AugData3['avgTrialSpeed']*AugData3['avgTrialSpeed']*AugData3['avgTrialSpeed']\n",
    "AugData3['avgFRCu'] = AugData3['avgFR']*AugData3['avgFR']*AugData3['avgFR']"
   ]
  },
  {
   "cell_type": "code",
   "execution_count": 47,
   "metadata": {},
   "outputs": [
    {
     "name": "stderr",
     "output_type": "stream",
     "text": [
      "/home/browne/anaconda3/lib/python3.7/site-packages/sklearn/preprocessing/data.py:625: DataConversionWarning: Data with input dtype int64, float64 were all converted to float64 by StandardScaler.\n",
      "  return self.partial_fit(X, y)\n",
      "/home/browne/anaconda3/lib/python3.7/site-packages/sklearn/base.py:462: DataConversionWarning: Data with input dtype int64, float64 were all converted to float64 by StandardScaler.\n",
      "  return self.fit(X, **fit_params).transform(X)\n"
     ]
    }
   ],
   "source": [
    "# Standardize data\n",
    "stdNeuralDataAug3 = StandardScaler().fit_transform(AugData3) \n",
    "# Split off test set for later\n",
    "X, X_test, y, y_test = train_test_split(stdNeuralDataAug3,timeSinceKetamine.values.ravel(), test_size=0.2)\n",
    "\n",
    "# Split for cross validation, use 10 folds\n",
    "num_folds = 10\n",
    "XA = np.array(X)\n",
    "yA = np.array(y)\n",
    "X_train = []\n",
    "X_test = []\n",
    "y_train = []\n",
    "y_test = []\n",
    "kf = KFold(n_splits=num_folds)\n",
    "for train_index, test_index in kf.split(XA, yA):\n",
    "    X_train.append(XA[train_index])\n",
    "    X_test.append(XA[test_index])\n",
    "    y_train.append(yA[train_index])\n",
    "    y_test.append(yA[test_index])"
   ]
  },
  {
   "cell_type": "code",
   "execution_count": 48,
   "metadata": {},
   "outputs": [
    {
     "name": "stdout",
     "output_type": "stream",
     "text": [
      "Intercept:  1885.1795660508608\n",
      "['animalName', 'totalCellNum', 'gender', 'genotype', 'weight_g', 'ketamine_day', 'correlationScore', 'lickAccuracy', 'lickNumber', 'avgFR', 'avgSingleCellVariance', 'varianceFR', 'avgTrialSpeed', 'varianceSpeed', 'medianCellDepth'] [-109.64269421    5.56949394 -297.16054155  147.03517754  633.02484052\n",
      " -320.68463625  383.75356065  306.21282035   59.10936839 -885.17174324\n",
      " -124.44471122  148.60767264 -573.13065192  334.22873075 -435.51857752\n",
      " -212.57115878  234.36199972  776.5404991 ]\n",
      "RMSE:  1856.8250464437979\n",
      "R2: 0.29486632278414426\n",
      "0.13481689794944274\n"
     ]
    }
   ],
   "source": [
    "# Run basic linreg model on full train set, check performance against train\n",
    "model = linear_model.LinearRegression(fit_intercept=True,normalize=False,copy_X=True,n_jobs=None).fit(X,y)\n",
    "\n",
    "print(\"Intercept: \",model.intercept_)\n",
    "print(features,model.coef_)\n",
    "#print(model.coef_)\n",
    "y_pred = model.predict(X)\n",
    "rmse = np.sqrt(mean_squared_error(y,y_pred))\n",
    "r2 = r2_score(y,y_pred)\n",
    "print(\"RMSE: \",rmse)\n",
    "print(\"R2:\",r2)\n",
    "\n",
    "scaled_RMSE = rmse/(max(y)-min(y))\n",
    "print(scaled_RMSE)"
   ]
  },
  {
   "cell_type": "code",
   "execution_count": 49,
   "metadata": {},
   "outputs": [
    {
     "name": "stdout",
     "output_type": "stream",
     "text": [
      "Average RMSE across Folds: 1852.5491690454987\n",
      "Average Scaled RMSE across Folds: 0.1345064429994975\n"
     ]
    }
   ],
   "source": [
    "rmse_cv = []\n",
    "for i in range(0,num_folds):\n",
    "    model = linear_model.LinearRegression(fit_intercept=True,normalize=False,copy_X=True,n_jobs=None).fit(X,y)\n",
    "    y_pred = model.predict(X_test[i])\n",
    "    rmse_cv.append(np.sqrt(mean_squared_error(y_test[i],y_pred)))\n",
    "print(\"Average RMSE across Folds:\",np.mean(rmse_cv))\n",
    "print(\"Average Scaled RMSE across Folds:\",np.mean(rmse_cv)/(max(y)-min(y)))"
   ]
  },
  {
   "cell_type": "markdown",
   "metadata": {},
   "source": [
    "##### One more augmentation"
   ]
  },
  {
   "cell_type": "code",
   "execution_count": 50,
   "metadata": {},
   "outputs": [
    {
     "name": "stderr",
     "output_type": "stream",
     "text": [
      "/home/browne/anaconda3/lib/python3.7/site-packages/sklearn/preprocessing/data.py:625: DataConversionWarning: Data with input dtype int64, float64 were all converted to float64 by StandardScaler.\n",
      "  return self.partial_fit(X, y)\n",
      "/home/browne/anaconda3/lib/python3.7/site-packages/sklearn/base.py:462: DataConversionWarning: Data with input dtype int64, float64 were all converted to float64 by StandardScaler.\n",
      "  return self.fit(X, **fit_params).transform(X)\n"
     ]
    }
   ],
   "source": [
    "AugData4 = neuralData_LE.copy()\n",
    "\n",
    "AugData4['corrScoreInv'] = 1/(1+AugData4['correlationScore'])\n",
    "AugData4['avgTrialSpeedInv'] = 1/(1+AugData4['avgTrialSpeed'])\n",
    "AugData4['avgFRInv'] = 1/(1+AugData4['avgFR'])\n",
    "\n",
    "# Standardize data\n",
    "stdNeuralDataAug4 = StandardScaler().fit_transform(AugData4) \n",
    "# Split off test set for later\n",
    "X, X_test, y, y_test = train_test_split(AugData4,timeSinceKetamine.values.ravel(), test_size=0.2)\n",
    "\n",
    "# Split for cross validation, use 10 folds\n",
    "num_folds = 10\n",
    "XA = np.array(X)\n",
    "yA = np.array(y)\n",
    "X_train = []\n",
    "X_test = []\n",
    "y_train = []\n",
    "y_test = []\n",
    "kf = KFold(n_splits=num_folds)\n",
    "for train_index, test_index in kf.split(XA, yA):\n",
    "    X_train.append(XA[train_index])\n",
    "    X_test.append(XA[test_index])\n",
    "    y_train.append(yA[train_index])\n",
    "    y_test.append(yA[test_index])"
   ]
  },
  {
   "cell_type": "code",
   "execution_count": 51,
   "metadata": {},
   "outputs": [
    {
     "name": "stdout",
     "output_type": "stream",
     "text": [
      "Intercept:  3723.2940578811526\n",
      "['animalName', 'totalCellNum', 'gender', 'genotype', 'weight_g', 'ketamine_day', 'correlationScore', 'lickAccuracy', 'lickNumber', 'avgFR', 'avgSingleCellVariance', 'varianceFR', 'avgTrialSpeed', 'varianceSpeed', 'medianCellDepth'] [ 4.49896054e+01 -2.34591455e+00 -7.26028374e+02  6.13177274e+02\n",
      "  1.88335768e+02 -2.12580419e+02  1.53203865e+03  1.21257508e+03\n",
      "  1.53685814e+00 -1.96863846e+02  2.33661963e+00  1.33560998e+02\n",
      " -3.69485406e+01  6.52247747e+01 -9.98465322e-01 -2.23107742e+03\n",
      "  8.34356473e+02 -2.46653535e+03]\n",
      "RMSE:  1917.019637370434\n",
      "R2: 0.2774994015017411\n",
      "0.13918739480244843\n"
     ]
    }
   ],
   "source": [
    "# Run basic linreg model on full train set, check performance against train\n",
    "model = linear_model.LinearRegression(fit_intercept=True,normalize=False,copy_X=True,n_jobs=None).fit(X,y)\n",
    "\n",
    "print(\"Intercept: \",model.intercept_)\n",
    "print(features,model.coef_)\n",
    "#print(model.coef_)\n",
    "y_pred = model.predict(X)\n",
    "rmse = np.sqrt(mean_squared_error(y,y_pred))\n",
    "r2 = r2_score(y,y_pred)\n",
    "print(\"RMSE: \",rmse)\n",
    "print(\"R2:\",r2)\n",
    "\n",
    "scaled_RMSE = rmse/(max(y)-min(y))\n",
    "print(scaled_RMSE)"
   ]
  },
  {
   "cell_type": "code",
   "execution_count": 52,
   "metadata": {},
   "outputs": [
    {
     "name": "stdout",
     "output_type": "stream",
     "text": [
      "Average RMSE across Folds: 1913.6267263538862\n",
      "Average Scaled RMSE across Folds: 0.13894104863260032\n"
     ]
    }
   ],
   "source": [
    "rmse_cv = []\n",
    "for i in range(0,num_folds):\n",
    "    model = linear_model.LinearRegression(fit_intercept=True,normalize=False,copy_X=True,n_jobs=None).fit(X,y)\n",
    "    y_pred = model.predict(X_test[i])\n",
    "    rmse_cv.append(np.sqrt(mean_squared_error(y_test[i],y_pred)))\n",
    "print(\"Average RMSE across Folds:\",np.mean(rmse_cv))\n",
    "print(\"Average Scaled RMSE across Folds:\",np.mean(rmse_cv)/(max(y)-min(y)))"
   ]
  },
  {
   "cell_type": "code",
   "execution_count": null,
   "metadata": {},
   "outputs": [],
   "source": []
  },
  {
   "cell_type": "code",
   "execution_count": null,
   "metadata": {},
   "outputs": [],
   "source": []
  },
  {
   "cell_type": "code",
   "execution_count": null,
   "metadata": {},
   "outputs": [],
   "source": []
  }
 ],
 "metadata": {
  "kernelspec": {
   "display_name": "Python 3",
   "language": "python",
   "name": "python3"
  },
  "language_info": {
   "codemirror_mode": {
    "name": "ipython",
    "version": 3
   },
   "file_extension": ".py",
   "mimetype": "text/x-python",
   "name": "python",
   "nbconvert_exporter": "python",
   "pygments_lexer": "ipython3",
   "version": "3.7.4"
  }
 },
 "nbformat": 4,
 "nbformat_minor": 2
}
