{
 "cells": [
  {
   "cell_type": "code",
   "execution_count": 1,
   "metadata": {},
   "outputs": [],
   "source": [
    "# packages\n",
    "import os\n",
    "import pandas as pd\n",
    "import math\n",
    "from scipy import io\n",
    "import numpy as np\n",
    "from numpy import squeeze\n",
    "from sklearn import linear_model\n",
    "from sklearn.metrics import mean_squared_error\n",
    "from sklearn.model_selection import train_test_split\n",
    "from sklearn.preprocessing import StandardScaler\n",
    "from sklearn.preprocessing import LabelEncoder\n",
    "from sklearn.model_selection import StratifiedKFold\n",
    "from sklearn.metrics import zero_one_loss\n",
    "from sklearn.metrics import accuracy_score\n",
    "from sklearn.metrics import confusion_matrix\n",
    "import statsmodels.api as sm\n",
    "import matplotlib.pyplot as plt\n",
    "from matplotlib import style\n",
    "style.use('ggplot') "
   ]
  },
  {
   "cell_type": "code",
   "execution_count": 2,
   "metadata": {},
   "outputs": [
    {
     "data": {
      "text/plain": [
       "Index(['animalName', 'sessionDate', 'trialNum', 'totalCellNum', 'gender',\n",
       "       'genotype', 'weight_g', 'ketamine_day', 'correlationScore',\n",
       "       'lickAccuracy', 'lickNumber', 'avgFR', 'avgSingleCellVariance',\n",
       "       'varianceFR', 'avgTrialSpeed', 'varianceSpeed', 'medianCellDepth',\n",
       "       'timeSinceKetamine', 'ketamineAdministered'],\n",
       "      dtype='object')"
      ]
     },
     "execution_count": 2,
     "metadata": {},
     "output_type": "execute_result"
    }
   ],
   "source": [
    "allData = pd.read_csv('sessionTrialTable.csv')\n",
    "allData.keys()"
   ]
  },
  {
   "cell_type": "code",
   "execution_count": 3,
   "metadata": {},
   "outputs": [
    {
     "name": "stdout",
     "output_type": "stream",
     "text": [
      "num_cols = 19\n",
      "num_rows = 5000\n",
      "num_dup = 0\n"
     ]
    }
   ],
   "source": [
    "# Check size information\n",
    "print(\"num_cols =\",len(allData.keys()))\n",
    "print(\"num_rows =\",len(allData))\n",
    "\n",
    "# Check for duplicate rows\n",
    "print(\"num_dup =\",np.sum(pd.DataFrame.duplicated(allData)))"
   ]
  },
  {
   "cell_type": "code",
   "execution_count": 4,
   "metadata": {},
   "outputs": [
    {
     "data": {
      "text/plain": [
       "animalName               0\n",
       "sessionDate              0\n",
       "trialNum                 0\n",
       "totalCellNum             0\n",
       "gender                   0\n",
       "genotype                 0\n",
       "weight_g                 0\n",
       "ketamine_day             0\n",
       "correlationScore         0\n",
       "lickAccuracy             0\n",
       "lickNumber               0\n",
       "avgFR                    1\n",
       "avgSingleCellVariance    1\n",
       "varianceFR               3\n",
       "avgTrialSpeed            0\n",
       "varianceSpeed            0\n",
       "medianCellDepth          0\n",
       "timeSinceKetamine        0\n",
       "ketamineAdministered     0\n",
       "dtype: int64"
      ]
     },
     "execution_count": 4,
     "metadata": {},
     "output_type": "execute_result"
    }
   ],
   "source": [
    "# Check for NaNs and see where they are coming from\n",
    "np.sum(pd.isna(allData))"
   ]
  },
  {
   "cell_type": "code",
   "execution_count": 5,
   "metadata": {},
   "outputs": [
    {
     "name": "stdout",
     "output_type": "stream",
     "text": [
      "After Drop NaN\n",
      "num_rows = 4997\n"
     ]
    }
   ],
   "source": [
    "# Remove any rows with nans\n",
    "allDataNN = pd.DataFrame.dropna(allData,'index')\n",
    "print(\"After Drop NaN\")\n",
    "print(\"num_rows =\",len(allDataNN))"
   ]
  },
  {
   "cell_type": "code",
   "execution_count": 6,
   "metadata": {},
   "outputs": [],
   "source": [
    "ketBool = allDataNN['ketamineAdministered']\n",
    "neuralData = allDataNN[['animalName','totalCellNum',\n",
    "       'gender', 'genotype', 'weight_g',\n",
    "       'ketamine_day', 'correlationScore', 'lickAccuracy',\n",
    "       'lickNumber', 'avgFR', 'avgSingleCellVariance',\n",
    "       'varianceFR', 'avgTrialSpeed', 'varianceSpeed',\n",
    "       'medianCellDepth','timeSinceKetamine','sessionDate','trialNum']]\n",
    "# Drop timeSinceKetamine, sessionDate, trialNum as covariates when it is time\n",
    "# Convert categorical columns\n",
    "le = LabelEncoder()\n",
    "neuralData_LE = neuralData.copy()\n",
    "neuralData_LE['gender'] = le.fit_transform(neuralData_LE['gender'])\n",
    "neuralData_LE['genotype'] = le.fit_transform(neuralData_LE['genotype'])"
   ]
  },
  {
   "cell_type": "code",
   "execution_count": 7,
   "metadata": {},
   "outputs": [],
   "source": [
    "AugData = neuralData_LE.copy()\n",
    "\n",
    "AugData['totalCellNumxCorrelationScore'] = AugData['totalCellNum']*AugData['correlationScore']\n",
    "AugData['totalCellNumxLickAccuracy'] = AugData['totalCellNum']*AugData['lickAccuracy']\n",
    "AugData['totalCellNumxLickNumber'] = AugData['totalCellNum']*AugData['lickNumber']\n",
    "AugData['totalCellNumxAvgFR'] = AugData['totalCellNum']*AugData['avgFR']\n",
    "AugData['totalCellNumxAvgSingleCellVariance'] = AugData['totalCellNum']*AugData['avgSingleCellVariance']\n",
    "AugData['totalCellNumxVarianceFR'] = AugData['totalCellNum']*AugData['varianceFR']\n",
    "AugData['totalCellNumxAvgTrialSpeed'] = AugData['totalCellNum']*AugData['avgTrialSpeed']\n",
    "AugData['totalCellNumxVarianceSpeed'] = AugData['totalCellNum']*AugData['varianceSpeed']\n",
    "\n",
    "AugData['genderxCorrelationScore'] = AugData['gender']*AugData['correlationScore']\n",
    "AugData['genderxLickAccuracy'] = AugData['gender']*AugData['lickAccuracy']\n",
    "AugData['genderxLickNumber'] = AugData['gender']*AugData['lickNumber']\n",
    "AugData['genderxAvgFR'] = AugData['gender']*AugData['avgFR']\n",
    "AugData['genderxAvgSingleCellVariance'] = AugData['gender']*AugData['avgSingleCellVariance']\n",
    "AugData['genderxVarianceFR'] = AugData['gender']*AugData['varianceFR']\n",
    "AugData['genderxAvgTrialSpeed'] = AugData['gender']*AugData['avgTrialSpeed']\n",
    "AugData['genderxVarianceSpeed'] = AugData['gender']*AugData['varianceSpeed']\n",
    "\n",
    "AugData['genotypexCorrelationScore'] = AugData['genotype']*AugData['correlationScore']\n",
    "AugData['genotypexLickAccuracy'] = AugData['genotype']*AugData['lickAccuracy']\n",
    "AugData['genotypexLickNumber'] = AugData['genotype']*AugData['lickNumber']\n",
    "AugData['genotypexAvgFR'] = AugData['genotype']*AugData['avgFR']\n",
    "AugData['genotypexAvgSingleCellVariance'] = AugData['genotype']*AugData['avgSingleCellVariance']\n",
    "AugData['genotypexVarianceFR'] = AugData['genotype']*AugData['varianceFR']\n",
    "AugData['genotypexAvgTrialSpeed'] = AugData['genotype']*AugData['avgTrialSpeed']\n",
    "AugData['genotypexVarianceSpeed'] = AugData['genotype']*AugData['varianceSpeed']\n",
    "\n",
    "AugData['weight_gxCorrelationScore'] = AugData['weight_g']*AugData['correlationScore']\n",
    "AugData['weight_gxLickAccuracy'] = AugData['weight_g']*AugData['lickAccuracy']\n",
    "AugData['weight_gxLickNumber'] = AugData['weight_g']*AugData['lickNumber']\n",
    "AugData['weight_gxAvgFR'] = AugData['weight_g']*AugData['avgFR']\n",
    "AugData['weight_gxAvgSingleCellVariance'] = AugData['weight_g']*AugData['avgSingleCellVariance']\n",
    "AugData['weight_gxVarianceFR'] = AugData['weight_g']*AugData['varianceFR']\n",
    "AugData['weight_gxAvgTrialSpeed'] = AugData['weight_g']*AugData['avgTrialSpeed']\n",
    "AugData['weight_gxVarianceSpeed'] = AugData['weight_g']*AugData['varianceSpeed']\n",
    "\n",
    "AugData['ketamine_dayxCorrelationScore'] = AugData['ketamine_day']*AugData['correlationScore']\n",
    "AugData['ketamine_dayxLickAccuracy'] = AugData['ketamine_day']*AugData['lickAccuracy']\n",
    "AugData['ketamine_dayxLickNumber'] = AugData['ketamine_day']*AugData['lickNumber']\n",
    "AugData['ketamine_dayxAvgFR'] = AugData['ketamine_day']*AugData['avgFR']\n",
    "AugData['ketamine_dayxAvgSingleCellVariance'] = AugData['ketamine_day']*AugData['avgSingleCellVariance']\n",
    "AugData['ketamine_dayxVarianceFR'] = AugData['ketamine_day']*AugData['varianceFR']\n",
    "AugData['ketamine_dayxAvgTrialSpeed'] = AugData['ketamine_day']*AugData['avgTrialSpeed']\n",
    "AugData['ketamine_dayxVarianceSpeed'] = AugData['ketamine_day']*AugData['varianceSpeed']\n",
    "\n",
    "AugData['medianCellDepthxCorrelationScore'] = AugData['medianCellDepth']*AugData['correlationScore']\n",
    "AugData['medianCellDepthxLickAccuracy'] = AugData['medianCellDepth']*AugData['lickAccuracy']\n",
    "AugData['medianCellDepthxLickNumber'] = AugData['medianCellDepth']*AugData['lickNumber']\n",
    "AugData['medianCellDepthxAvgFR'] = AugData['medianCellDepth']*AugData['avgFR']\n",
    "AugData['medianCellDepthxAvgSingleCellVariance'] = AugData['medianCellDepth']*AugData['avgSingleCellVariance']\n",
    "AugData['medianCellDepthxVarianceFR'] = AugData['medianCellDepth']*AugData['varianceFR']\n",
    "AugData['medianCellDepthxAvgTrialSpeed'] = AugData['medianCellDepth']*AugData['avgTrialSpeed']\n",
    "AugData['medianCellDepthxVarianceSpeed'] = AugData['medianCellDepth']*AugData['varianceSpeed']"
   ]
  },
  {
   "cell_type": "markdown",
   "metadata": {},
   "source": [
    "## Split into train and test before standardizing\n",
    "### Note that we need to save training mean and std dev for each covariate being standardized so that we can standardize the test set properly! "
   ]
  },
  {
   "cell_type": "code",
   "execution_count": 8,
   "metadata": {},
   "outputs": [],
   "source": [
    "# Set seed for reproducibility and split into train and test\n",
    "X_train, X_test, y_train, y_test = train_test_split(AugData, ketBool.values.ravel(), test_size=0.2, random_state=2019)"
   ]
  },
  {
   "cell_type": "code",
   "execution_count": 9,
   "metadata": {},
   "outputs": [
    {
     "data": {
      "text/plain": [
       "Index(['animalName', 'totalCellNum', 'gender', 'genotype', 'weight_g',\n",
       "       'ketamine_day', 'correlationScore', 'lickAccuracy', 'lickNumber',\n",
       "       'avgFR', 'avgSingleCellVariance', 'varianceFR', 'avgTrialSpeed',\n",
       "       'varianceSpeed', 'medianCellDepth', 'timeSinceKetamine', 'sessionDate',\n",
       "       'trialNum', 'totalCellNumxCorrelationScore',\n",
       "       'totalCellNumxLickAccuracy', 'totalCellNumxLickNumber',\n",
       "       'totalCellNumxAvgFR', 'totalCellNumxAvgSingleCellVariance',\n",
       "       'totalCellNumxVarianceFR', 'totalCellNumxAvgTrialSpeed',\n",
       "       'totalCellNumxVarianceSpeed', 'genderxCorrelationScore',\n",
       "       'genderxLickAccuracy', 'genderxLickNumber', 'genderxAvgFR',\n",
       "       'genderxAvgSingleCellVariance', 'genderxVarianceFR',\n",
       "       'genderxAvgTrialSpeed', 'genderxVarianceSpeed',\n",
       "       'genotypexCorrelationScore', 'genotypexLickAccuracy',\n",
       "       'genotypexLickNumber', 'genotypexAvgFR',\n",
       "       'genotypexAvgSingleCellVariance', 'genotypexVarianceFR',\n",
       "       'genotypexAvgTrialSpeed', 'genotypexVarianceSpeed',\n",
       "       'weight_gxCorrelationScore', 'weight_gxLickAccuracy',\n",
       "       'weight_gxLickNumber', 'weight_gxAvgFR',\n",
       "       'weight_gxAvgSingleCellVariance', 'weight_gxVarianceFR',\n",
       "       'weight_gxAvgTrialSpeed', 'weight_gxVarianceSpeed',\n",
       "       'ketamine_dayxCorrelationScore', 'ketamine_dayxLickAccuracy',\n",
       "       'ketamine_dayxLickNumber', 'ketamine_dayxAvgFR',\n",
       "       'ketamine_dayxAvgSingleCellVariance', 'ketamine_dayxVarianceFR',\n",
       "       'ketamine_dayxAvgTrialSpeed', 'ketamine_dayxVarianceSpeed',\n",
       "       'medianCellDepthxCorrelationScore', 'medianCellDepthxLickAccuracy',\n",
       "       'medianCellDepthxLickNumber', 'medianCellDepthxAvgFR',\n",
       "       'medianCellDepthxAvgSingleCellVariance', 'medianCellDepthxVarianceFR',\n",
       "       'medianCellDepthxAvgTrialSpeed', 'medianCellDepthxVarianceSpeed'],\n",
       "      dtype='object')"
      ]
     },
     "execution_count": 9,
     "metadata": {},
     "output_type": "execute_result"
    }
   ],
   "source": [
    "AugData.keys()"
   ]
  },
  {
   "cell_type": "code",
   "execution_count": 10,
   "metadata": {},
   "outputs": [],
   "source": [
    "# columns to standardize\n",
    "cols_for_std = ['totalCellNum', 'weight_g',\n",
    "       'correlationScore', 'lickAccuracy', 'lickNumber',\n",
    "       'avgFR', 'avgSingleCellVariance', 'varianceFR', 'avgTrialSpeed',\n",
    "       'varianceSpeed', 'medianCellDepth', 'totalCellNumxCorrelationScore',\n",
    "       'totalCellNumxLickAccuracy', 'totalCellNumxLickNumber',\n",
    "       'totalCellNumxAvgFR', 'totalCellNumxAvgSingleCellVariance',\n",
    "       'totalCellNumxVarianceFR', 'totalCellNumxAvgTrialSpeed',\n",
    "       'totalCellNumxVarianceSpeed', 'genderxCorrelationScore',\n",
    "       'genderxLickAccuracy', 'genderxLickNumber', 'genderxAvgFR',\n",
    "       'genderxAvgSingleCellVariance', 'genderxVarianceFR',\n",
    "       'genderxAvgTrialSpeed', 'genderxVarianceSpeed',\n",
    "       'genotypexCorrelationScore', 'genotypexLickAccuracy',\n",
    "       'genotypexLickNumber', 'genotypexAvgFR',\n",
    "       'genotypexAvgSingleCellVariance', 'genotypexVarianceFR',\n",
    "       'genotypexAvgTrialSpeed', 'genotypexVarianceSpeed',\n",
    "       'weight_gxCorrelationScore', 'weight_gxLickAccuracy',\n",
    "       'weight_gxLickNumber', 'weight_gxAvgFR',\n",
    "       'weight_gxAvgSingleCellVariance', 'weight_gxVarianceFR',\n",
    "       'weight_gxAvgTrialSpeed', 'weight_gxVarianceSpeed',\n",
    "       'ketamine_dayxCorrelationScore', 'ketamine_dayxLickAccuracy',\n",
    "       'ketamine_dayxLickNumber', 'ketamine_dayxAvgFR',\n",
    "       'ketamine_dayxAvgSingleCellVariance', 'ketamine_dayxVarianceFR',\n",
    "       'ketamine_dayxAvgTrialSpeed', 'ketamine_dayxVarianceSpeed',\n",
    "       'medianCellDepthxCorrelationScore', 'medianCellDepthxLickAccuracy',\n",
    "       'medianCellDepthxLickNumber', 'medianCellDepthxAvgFR',\n",
    "       'medianCellDepthxAvgSingleCellVariance', 'medianCellDepthxVarianceFR',\n",
    "       'medianCellDepthxAvgTrialSpeed', 'medianCellDepthxVarianceSpeed']"
   ]
  },
  {
   "cell_type": "code",
   "execution_count": 11,
   "metadata": {},
   "outputs": [],
   "source": [
    "# Compute mean and stdev of selected columns and save to dicts for easy access\n",
    "# Standardize while going\n",
    "# Compute mean and stdev ONLY over training set, then use these vals on both train and test\n",
    "mean = {}\n",
    "stdev = {}\n",
    "X_train_std = X_train.copy()\n",
    "X_test_std = X_test.copy()\n",
    "for c in cols_for_std:\n",
    "    mean[c] = np.mean(X_train[c])\n",
    "    stdev[c] = np.std(X_train[c])\n",
    "    X_train_std[c] = (X_train[c]-mean[c])/stdev[c]\n",
    "    X_test_std[c] = (X_test[c]-mean[c])/stdev[c]"
   ]
  },
  {
   "cell_type": "code",
   "execution_count": 12,
   "metadata": {},
   "outputs": [],
   "source": [
    "trainC = pd.DataFrame(X_train_std)\n",
    "trainC['ketBool'] = y_train\n",
    "testC = pd.DataFrame(X_test_std)\n",
    "testC['ketBool'] = y_test"
   ]
  },
  {
   "cell_type": "code",
   "execution_count": 18,
   "metadata": {},
   "outputs": [],
   "source": [
    "trainC.to_csv('trainC.csv',index=None)"
   ]
  },
  {
   "cell_type": "code",
   "execution_count": 17,
   "metadata": {},
   "outputs": [],
   "source": [
    "testC.to_csv('testC.csv',index=None)"
   ]
  },
  {
   "cell_type": "code",
   "execution_count": 23,
   "metadata": {},
   "outputs": [
    {
     "data": {
      "text/plain": [
       "array([0, 0, 0, 0, 0, 0, 0, 0, 0, 0, 0, 0, 0, 0, 0, 0, 0, 0, 0, 0, 0, 0,\n",
       "       0, 0, 0, 0, 0, 0, 0, 0, 0, 0, 0, 0, 0, 0, 0, 0, 0, 0, 0, 0, 0, 0,\n",
       "       0, 0, 0, 0, 0, 0, 0, 0, 0, 0, 0, 0, 0, 0, 0, 0, 0, 0, 0, 0, 0, 0,\n",
       "       0])"
      ]
     },
     "execution_count": 23,
     "metadata": {},
     "output_type": "execute_result"
    }
   ],
   "source": [
    "# Count NaNs - just to verify there are none!\n",
    "sum(np.array(pd.isna(trainC)))"
   ]
  },
  {
   "cell_type": "markdown",
   "metadata": {},
   "source": [
    "### The rest of this NB is old, saving JIC"
   ]
  },
  {
   "cell_type": "code",
   "execution_count": null,
   "metadata": {},
   "outputs": [],
   "source": [
    "# Set seed for reproducibility and split into train and test\n",
    "X, X_test, y, y_test = train_test_split(stdNeuralDataAug,ketBool.values.ravel(), test_size=0.2, random_state=2019)"
   ]
  },
  {
   "cell_type": "code",
   "execution_count": null,
   "metadata": {},
   "outputs": [],
   "source": [
    "# Split for cross validation, use 10 folds\n",
    "num_folds = 10\n",
    "XA = np.array(X)\n",
    "yA = np.array(y)\n",
    "X_train = []\n",
    "X_test = []\n",
    "y_train = []\n",
    "y_test = []\n",
    "skf = StratifiedKFold(n_splits=num_folds)\n",
    "for train_index, test_index in skf.split(XA, yA):\n",
    "    X_train.append(XA[train_index])\n",
    "    X_test.append(XA[test_index])\n",
    "    y_train.append(yA[train_index])\n",
    "    y_test.append(yA[test_index])"
   ]
  },
  {
   "cell_type": "code",
   "execution_count": null,
   "metadata": {},
   "outputs": [],
   "source": [
    "# Run basic log reg model on train set, check performance against train\n",
    "# Run model, tuning over C_param (l2 penalty by default)\n",
    "for C_param in [0.01, 0.1, 1, 10, 100, 1000, 5000, 10000, 50000]:\n",
    "    model = linear_model.LogisticRegression(solver='lbfgs',max_iter=10000,C = C_param).fit(X, y) \n",
    "    y_pred = model.predict(X)\n",
    "    print(zero_one_loss(y, y_pred))"
   ]
  },
  {
   "cell_type": "code",
   "execution_count": null,
   "metadata": {},
   "outputs": [],
   "source": [
    "C_param = 1000\n",
    "zo_loss = []\n",
    "accuracy = []\n",
    "num_folds=10\n",
    "for i in range(0,num_folds):\n",
    "    LRmodel = linear_model.LogisticRegression(solver='lbfgs',max_iter=10000, C = C_param).fit(X_train[i], y_train[i]) \n",
    "    y_pred = model.predict(X_test[i])\n",
    "    zo_loss.append(zero_one_loss(y_test[i],y_pred))\n",
    "    accuracy.append(accuracy_score(y_test[i],y_pred))\n",
    "\n",
    "avg_zo_loss = np.mean(zo_loss)\n",
    "avg_acc = np.mean(accuracy)\n",
    "print(\"Average zero-one loss across folds:\",avg_zo_loss)\n",
    "print(\"Average accuracy across folds:\",avg_acc)"
   ]
  },
  {
   "cell_type": "code",
   "execution_count": null,
   "metadata": {},
   "outputs": [],
   "source": [
    "AugData"
   ]
  },
  {
   "cell_type": "code",
   "execution_count": null,
   "metadata": {},
   "outputs": [],
   "source": []
  }
 ],
 "metadata": {
  "kernelspec": {
   "display_name": "Python 3",
   "language": "python",
   "name": "python3"
  },
  "language_info": {
   "codemirror_mode": {
    "name": "ipython",
    "version": 3
   },
   "file_extension": ".py",
   "mimetype": "text/x-python",
   "name": "python",
   "nbconvert_exporter": "python",
   "pygments_lexer": "ipython3",
   "version": "3.7.4"
  }
 },
 "nbformat": 4,
 "nbformat_minor": 2
}
