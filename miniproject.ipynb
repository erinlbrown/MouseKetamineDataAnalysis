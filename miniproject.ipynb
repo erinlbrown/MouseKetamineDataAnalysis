{
 "cells": [
  {
   "cell_type": "code",
   "execution_count": 1,
   "metadata": {},
   "outputs": [],
   "source": [
    "# packages\n",
    "import os\n",
    "import pandas as pd\n",
    "import math\n",
    "from scipy import io\n",
    "import numpy as np\n",
    "from numpy import squeeze\n",
    "from sklearn import linear_model\n",
    "from sklearn.metrics import mean_squared_error\n",
    "from sklearn.model_selection import train_test_split\n",
    "from sklearn.preprocessing import StandardScaler\n",
    "from sklearn.metrics import zero_one_loss\n",
    "import matplotlib.pyplot as plt\n",
    "from matplotlib import style\n",
    "style.use('ggplot') "
   ]
  },
  {
   "cell_type": "markdown",
   "metadata": {},
   "source": [
    "### Logistic Regression Classifier"
   ]
  },
  {
   "cell_type": "code",
   "execution_count": 4,
   "metadata": {},
   "outputs": [],
   "source": [
    "allData = pd.read_csv('allTrialsAllCellsTable10cm.csv')"
   ]
  },
  {
   "cell_type": "code",
   "execution_count": 30,
   "metadata": {},
   "outputs": [
    {
     "data": {
      "text/plain": [
       "Index(['animalName', 'sessionDate', 'trialNum', 'cellNum', 'gender',\n",
       "       'genotype', 'weight_g', 'ketamine_day', 'timeSinceKetamine',\n",
       "       'ketamineAdministered', 'spatialBin10cm1', 'spatialBin10cm2',\n",
       "       'spatialBin10cm3', 'spatialBin10cm4', 'spatialBin10cm5',\n",
       "       'spatialBin10cm6', 'spatialBin10cm7', 'spatialBin10cm8',\n",
       "       'spatialBin10cm9', 'spatialBin10cm10', 'spatialBin10cm11',\n",
       "       'spatialBin10cm12', 'spatialBin10cm13', 'spatialBin10cm14',\n",
       "       'spatialBin10cm15', 'spatialBin10cm16', 'spatialBin10cm17',\n",
       "       'spatialBin10cm18', 'spatialBin10cm19', 'spatialBin10cm20',\n",
       "       'spatialBin10cm21', 'spatialBin10cm22', 'spatialBin10cm23',\n",
       "       'spatialBin10cm24', 'spatialBin10cm25', 'spatialBin10cm26',\n",
       "       'spatialBin10cm27', 'spatialBin10cm28', 'spatialBin10cm29',\n",
       "       'spatialBin10cm30', 'spatialBin10cm31', 'spatialBin10cm32',\n",
       "       'spatialBin10cm33', 'spatialBin10cm34', 'spatialBin10cm35',\n",
       "       'spatialBin10cm36', 'spatialBin10cm37', 'spatialBin10cm38',\n",
       "       'spatialBin10cm39', 'spatialBin10cm40'],\n",
       "      dtype='object')"
      ]
     },
     "execution_count": 30,
     "metadata": {},
     "output_type": "execute_result"
    }
   ],
   "source": [
    "DataKeys = allData.keys()\n",
    "print(DataKeys)"
   ]
  },
  {
   "cell_type": "code",
   "execution_count": 25,
   "metadata": {},
   "outputs": [],
   "source": [
    "BinDataKeys = DataKeys[10:]\n",
    "ketBool = allData['ketamineAdministered']\n",
    "timeSinceKetamine = allData['timeSinceKetamine']\n",
    "neuralData = allData[BinDataKeys]"
   ]
  },
  {
   "cell_type": "code",
   "execution_count": 26,
   "metadata": {
    "scrolled": true
   },
   "outputs": [],
   "source": [
    "stdNeuralData = StandardScaler().fit_transform(neuralData) #consider using normalization instead of standardizing\n",
    "X_train, X_test, y_train, y_test = train_test_split(stdNeuralData,ketBool.values.ravel(), test_size=0.2)"
   ]
  },
  {
   "cell_type": "code",
   "execution_count": 27,
   "metadata": {},
   "outputs": [],
   "source": [
    "C_param = 1.0\n",
    "model = linear_model.LogisticRegression(penalty='l2',random_state=0, solver='lbfgs', multi_class='multinomial', max_iter=10000, C = C_param).fit(X_train, y_train) "
   ]
  },
  {
   "cell_type": "code",
   "execution_count": 28,
   "metadata": {},
   "outputs": [],
   "source": [
    "y_pred = model.predict(X_test)\n",
    "y_pred_proba = model.predict_proba(X_test)"
   ]
  },
  {
   "cell_type": "code",
   "execution_count": 29,
   "metadata": {},
   "outputs": [
    {
     "name": "stdout",
     "output_type": "stream",
     "text": [
      "0.33025191514437247\n"
     ]
    }
   ],
   "source": [
    "print(zero_one_loss(y_test, y_pred))"
   ]
  },
  {
   "cell_type": "markdown",
   "metadata": {},
   "source": [
    "### Linear Regression to Predict Time Since Ketamine Admin"
   ]
  },
  {
   "cell_type": "code",
   "execution_count": null,
   "metadata": {},
   "outputs": [],
   "source": [
    "X_train, X_test, y_train, y_test = train_test_split(stdNeuralData,ketBool.values.ravel(), test_size=0.2)"
   ]
  },
  {
   "cell_type": "code",
   "execution_count": null,
   "metadata": {},
   "outputs": [],
   "source": []
  },
  {
   "cell_type": "code",
   "execution_count": null,
   "metadata": {},
   "outputs": [],
   "source": [
    "%matplotlib qt\n",
    "plt.style.use('ggplot')\n",
    "plt.plot(y_test,color='red')\n",
    "plt.title('RMSE from Model Trained on Trial 1-50')\n",
    "# plt.xlabel('Trial')\n",
    "# plt.ylabel('Normalized RMSE')\n",
    "\n",
    "plt.show()"
   ]
  },
  {
   "cell_type": "code",
   "execution_count": 38,
   "metadata": {},
   "outputs": [],
   "source": [
    "# plt.plot(neuralData.iloc[1])\n",
    "%matplotlib qt\n",
    "plt.plot(stdNeuralData[207000])\n",
    "plt.show()"
   ]
  },
  {
   "cell_type": "code",
   "execution_count": null,
   "metadata": {},
   "outputs": [],
   "source": [
    "?zero_one_loss"
   ]
  },
  {
   "cell_type": "code",
   "execution_count": 20,
   "metadata": {},
   "outputs": [
    {
     "data": {
      "text/plain": [
       "numpy.ndarray"
      ]
     },
     "execution_count": 20,
     "metadata": {},
     "output_type": "execute_result"
    }
   ],
   "source": [
    "type(stdNeuralData)"
   ]
  },
  {
   "cell_type": "code",
   "execution_count": null,
   "metadata": {},
   "outputs": [],
   "source": []
  }
 ],
 "metadata": {
  "kernelspec": {
   "display_name": "Python 3",
   "language": "python",
   "name": "python3"
  },
  "language_info": {
   "codemirror_mode": {
    "name": "ipython",
    "version": 3
   },
   "file_extension": ".py",
   "mimetype": "text/x-python",
   "name": "python",
   "nbconvert_exporter": "python",
   "pygments_lexer": "ipython3",
   "version": "3.7.4"
  }
 },
 "nbformat": 4,
 "nbformat_minor": 2
}
