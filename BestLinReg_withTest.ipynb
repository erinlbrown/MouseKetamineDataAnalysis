{
 "cells": [
  {
   "cell_type": "markdown",
   "metadata": {},
   "source": [
    "## Linear Regression"
   ]
  },
  {
   "cell_type": "markdown",
   "metadata": {},
   "source": [
    "### Predicting time since ketamine administration"
   ]
  },
  {
   "cell_type": "code",
   "execution_count": 1,
   "metadata": {},
   "outputs": [],
   "source": [
    "# packages\n",
    "import os\n",
    "import pandas as pd\n",
    "import math\n",
    "from scipy import io\n",
    "import numpy as np\n",
    "from numpy import squeeze\n",
    "from sklearn import linear_model\n",
    "from sklearn.metrics import mean_squared_error\n",
    "from sklearn.metrics import r2_score\n",
    "from sklearn.model_selection import train_test_split\n",
    "from sklearn.preprocessing import StandardScaler\n",
    "from sklearn.preprocessing import LabelEncoder\n",
    "from sklearn.model_selection import KFold\n",
    "from sklearn.metrics import zero_one_loss\n",
    "from sklearn.metrics import accuracy_score\n",
    "import matplotlib.pyplot as plt\n",
    "from matplotlib import style\n",
    "style.use('ggplot') "
   ]
  },
  {
   "cell_type": "markdown",
   "metadata": {},
   "source": [
    "#### Load in data and perform checks"
   ]
  },
  {
   "cell_type": "code",
   "execution_count": 2,
   "metadata": {},
   "outputs": [],
   "source": [
    "allData = pd.read_csv('postKetamineTable.csv')"
   ]
  },
  {
   "cell_type": "code",
   "execution_count": 3,
   "metadata": {},
   "outputs": [
    {
     "data": {
      "text/plain": [
       "Index(['animalName', 'sessionDate', 'trialNum', 'totalCellNum', 'gender',\n",
       "       'genotype', 'weight_g', 'ketamine_day', 'correlationScore',\n",
       "       'lickAccuracy', 'lickNumber', 'avgFR', 'avgSingleCellVariance',\n",
       "       'varianceFR', 'avgTrialSpeed', 'varianceSpeed', 'medianCellDepth',\n",
       "       'timeSinceKetamine', 'ketamineAdministered'],\n",
       "      dtype='object')"
      ]
     },
     "execution_count": 3,
     "metadata": {},
     "output_type": "execute_result"
    }
   ],
   "source": [
    "allData.keys()"
   ]
  },
  {
   "cell_type": "code",
   "execution_count": 4,
   "metadata": {},
   "outputs": [
    {
     "name": "stdout",
     "output_type": "stream",
     "text": [
      "num_cols = 19\n",
      "num_rows = 5000\n",
      "num_dup = 0\n"
     ]
    }
   ],
   "source": [
    "# Check size information\n",
    "print(\"num_cols =\",len(allData.keys()))\n",
    "print(\"num_rows =\",len(allData))\n",
    "\n",
    "# Check for duplicate rows\n",
    "print(\"num_dup =\",np.sum(pd.DataFrame.duplicated(allData)))"
   ]
  },
  {
   "cell_type": "code",
   "execution_count": 5,
   "metadata": {},
   "outputs": [
    {
     "data": {
      "text/plain": [
       "animalName               0\n",
       "sessionDate              0\n",
       "trialNum                 0\n",
       "totalCellNum             0\n",
       "gender                   0\n",
       "genotype                 0\n",
       "weight_g                 0\n",
       "ketamine_day             0\n",
       "correlationScore         0\n",
       "lickAccuracy             0\n",
       "lickNumber               0\n",
       "avgFR                    0\n",
       "avgSingleCellVariance    0\n",
       "varianceFR               5\n",
       "avgTrialSpeed            0\n",
       "varianceSpeed            0\n",
       "medianCellDepth          0\n",
       "timeSinceKetamine        0\n",
       "ketamineAdministered     0\n",
       "dtype: int64"
      ]
     },
     "execution_count": 5,
     "metadata": {},
     "output_type": "execute_result"
    }
   ],
   "source": [
    "# Check for NaNs and see where they are coming from\n",
    "np.sum(pd.isna(allData))"
   ]
  },
  {
   "cell_type": "code",
   "execution_count": 6,
   "metadata": {},
   "outputs": [
    {
     "name": "stdout",
     "output_type": "stream",
     "text": [
      "After Drop NaN\n",
      "num_rows = 4995\n"
     ]
    }
   ],
   "source": [
    "# Remove any rows with nans\n",
    "allDataNN = pd.DataFrame.dropna(allData,'index')\n",
    "print(\"After Drop NaN\")\n",
    "print(\"num_rows =\",len(allDataNN))"
   ]
  },
  {
   "cell_type": "code",
   "execution_count": 7,
   "metadata": {},
   "outputs": [],
   "source": [
    "ketBool = allDataNN['ketamineAdministered']\n",
    "timeSinceKetamine = allDataNN['timeSinceKetamine']\n",
    "sessionDate = allDataNN['sessionDate']\n",
    "trialNum = allDataNN['trialNum']\n",
    "neuralData = allDataNN[['animalName', 'totalCellNum',\n",
    "       'gender', 'genotype', 'weight_g',\n",
    "       'ketamine_day', 'correlationScore', 'lickAccuracy',\n",
    "       'lickNumber', 'avgFR', 'avgSingleCellVariance',\n",
    "       'varianceFR', 'avgTrialSpeed', 'varianceSpeed',\n",
    "       'medianCellDepth']]"
   ]
  },
  {
   "cell_type": "code",
   "execution_count": 8,
   "metadata": {},
   "outputs": [],
   "source": [
    "# Convert categorical columns\n",
    "le = LabelEncoder()\n",
    "neuralData_LE = neuralData.copy()\n",
    "neuralData_LE['animalName'] = le.fit_transform(neuralData_LE['animalName'])\n",
    "neuralData_LE['gender'] = le.fit_transform(neuralData_LE['gender'])\n",
    "neuralData_LE['genotype'] = le.fit_transform(neuralData_LE['genotype'])\n",
    "features = list(neuralData_LE.keys())"
   ]
  },
  {
   "cell_type": "code",
   "execution_count": 9,
   "metadata": {},
   "outputs": [
    {
     "name": "stderr",
     "output_type": "stream",
     "text": [
      "/home/browne/anaconda3/lib/python3.7/site-packages/sklearn/preprocessing/data.py:625: DataConversionWarning: Data with input dtype int64, float64 were all converted to float64 by StandardScaler.\n",
      "  return self.partial_fit(X, y)\n",
      "/home/browne/anaconda3/lib/python3.7/site-packages/sklearn/base.py:462: DataConversionWarning: Data with input dtype int64, float64 were all converted to float64 by StandardScaler.\n",
      "  return self.fit(X, **fit_params).transform(X)\n"
     ]
    }
   ],
   "source": [
    "# Standardize data\n",
    "stdNeuralData = StandardScaler().fit_transform(neuralData_LE) "
   ]
  },
  {
   "cell_type": "code",
   "execution_count": 10,
   "metadata": {},
   "outputs": [],
   "source": [
    "# Split off test set for later\n",
    "X, X_ho, y, y_ho = train_test_split(stdNeuralData,timeSinceKetamine.values.ravel(), test_size=0.2, random_state = 2019)"
   ]
  },
  {
   "cell_type": "code",
   "execution_count": 11,
   "metadata": {},
   "outputs": [],
   "source": [
    "# Split for cross validation, use 10 folds\n",
    "num_folds = 10\n",
    "XA = np.array(X)\n",
    "yA = np.array(y)\n",
    "X_train = []\n",
    "X_test = []\n",
    "y_train = []\n",
    "y_test = []\n",
    "kf = KFold(n_splits=num_folds)\n",
    "for train_index, test_index in kf.split(XA, yA):\n",
    "    X_train.append(XA[train_index])\n",
    "    X_test.append(XA[test_index])\n",
    "    y_train.append(yA[train_index])\n",
    "    y_test.append(yA[test_index])"
   ]
  },
  {
   "cell_type": "code",
   "execution_count": 12,
   "metadata": {},
   "outputs": [],
   "source": [
    "# Run basic linreg model on full train set, check performance against train\n",
    "model = linear_model.LinearRegression(fit_intercept=True,normalize=False,copy_X=True,n_jobs=None).fit(X,y)"
   ]
  },
  {
   "cell_type": "code",
   "execution_count": 13,
   "metadata": {},
   "outputs": [
    {
     "name": "stdout",
     "output_type": "stream",
     "text": [
      "Intercept:  1881.3040918494605\n",
      "['animalName', 'totalCellNum', 'gender', 'genotype', 'weight_g', 'ketamine_day', 'correlationScore', 'lickAccuracy', 'lickNumber', 'avgFR', 'avgSingleCellVariance', 'varianceFR', 'avgTrialSpeed', 'varianceSpeed', 'medianCellDepth'] [  89.37637717  -48.31423738 -388.77287316  233.85776474  580.47450308\n",
      " -334.13598052  261.54986522  304.54847766   24.61109336 -597.46522638\n",
      "  262.84684555  244.33634822 -395.38514629  314.91671046 -387.04573926]\n",
      "RMSE:  1879.9189130710613\n",
      "R2: 0.2643830933222706\n"
     ]
    }
   ],
   "source": [
    "print(\"Intercept: \",model.intercept_)\n",
    "print(features,model.coef_)\n",
    "#print(model.coef_)\n",
    "y_pred = model.predict(X)\n",
    "rmse = np.sqrt(mean_squared_error(y,y_pred))\n",
    "r2 = r2_score(y,y_pred)\n",
    "print(\"RMSE: \",rmse)\n",
    "print(\"R2:\",r2)"
   ]
  },
  {
   "cell_type": "code",
   "execution_count": 14,
   "metadata": {},
   "outputs": [
    {
     "name": "stdout",
     "output_type": "stream",
     "text": [
      "0.14169716149281847\n"
     ]
    }
   ],
   "source": [
    "scaled_RMSE = rmse/(max(y)-min(y))\n",
    "print(scaled_RMSE)"
   ]
  },
  {
   "cell_type": "code",
   "execution_count": 15,
   "metadata": {},
   "outputs": [
    {
     "name": "stdout",
     "output_type": "stream",
     "text": [
      "Average RMSE across Folds: 1883.6861818752764\n",
      "Average Scaled RMSE across Folds: 0.1419811159189515\n"
     ]
    }
   ],
   "source": [
    "rmse_cv = []\n",
    "for i in range(0,num_folds):\n",
    "    model = linear_model.LinearRegression(fit_intercept=True,normalize=False,copy_X=True,n_jobs=None).fit(X_train[i],y_train[i])\n",
    "    y_pred = model.predict(X_test[i])\n",
    "    rmse_cv.append(np.sqrt(mean_squared_error(y_test[i],y_pred)))\n",
    "print(\"Average RMSE across Folds:\",np.mean(rmse_cv))\n",
    "print(\"Average Scaled RMSE across Folds:\",np.mean(rmse_cv)/(max(y)-min(y)))"
   ]
  },
  {
   "cell_type": "markdown",
   "metadata": {},
   "source": [
    "##### Now let's try with some second order interaction terms"
   ]
  },
  {
   "cell_type": "code",
   "execution_count": 16,
   "metadata": {},
   "outputs": [
    {
     "data": {
      "text/plain": [
       "Index(['animalName', 'totalCellNum', 'gender', 'genotype', 'weight_g',\n",
       "       'ketamine_day', 'correlationScore', 'lickAccuracy', 'lickNumber',\n",
       "       'avgFR', 'avgSingleCellVariance', 'varianceFR', 'avgTrialSpeed',\n",
       "       'varianceSpeed', 'medianCellDepth'],\n",
       "      dtype='object')"
      ]
     },
     "execution_count": 16,
     "metadata": {},
     "output_type": "execute_result"
    }
   ],
   "source": [
    "AugData = neuralData_LE.copy()\n",
    "AugData.keys()"
   ]
  },
  {
   "cell_type": "code",
   "execution_count": 17,
   "metadata": {},
   "outputs": [],
   "source": [
    "primaryF = ['correlationScore', 'lickAccuracy', 'lickNumber',\n",
    "       'avgFR', 'avgSingleCellVariance', 'varianceFR', 'avgTrialSpeed',\n",
    "       'varianceSpeed']\n",
    "secondaryF = ['animalName', 'totalCellNum', 'gender', 'genotype', 'weight_g',\n",
    "       'ketamine_day','medianCellDepth']"
   ]
  },
  {
   "cell_type": "code",
   "execution_count": 18,
   "metadata": {},
   "outputs": [],
   "source": [
    "AugData['animalNamexCorrelationScore'] = AugData['animalName']*AugData['correlationScore']\n",
    "AugData['animalNamexLickAccuracy'] = AugData['animalName']*AugData['lickAccuracy']\n",
    "AugData['animalNamexLickNumber'] = AugData['animalName']*AugData['lickNumber']\n",
    "AugData['animalNamexAvgFR'] = AugData['animalName']*AugData['avgFR']\n",
    "AugData['animalNamexAvgSingleCellVariance'] = AugData['animalName']*AugData['avgSingleCellVariance']\n",
    "AugData['animalNamexVarianceFR'] = AugData['animalName']*AugData['varianceFR']\n",
    "AugData['animalNamexAvgTrialSpeed'] = AugData['animalName']*AugData['avgTrialSpeed']\n",
    "AugData['animalNamexVarianceSpeed'] = AugData['animalName']*AugData['varianceSpeed']"
   ]
  },
  {
   "cell_type": "code",
   "execution_count": 19,
   "metadata": {},
   "outputs": [],
   "source": [
    "AugData['totalCellNumxCorrelationScore'] = AugData['totalCellNum']*AugData['correlationScore']\n",
    "AugData['totalCellNumxLickAccuracy'] = AugData['totalCellNum']*AugData['lickAccuracy']\n",
    "AugData['totalCellNumxLickNumber'] = AugData['totalCellNum']*AugData['lickNumber']\n",
    "AugData['totalCellNumxAvgFR'] = AugData['totalCellNum']*AugData['avgFR']\n",
    "AugData['totalCellNumxAvgSingleCellVariance'] = AugData['totalCellNum']*AugData['avgSingleCellVariance']\n",
    "AugData['totalCellNumxVarianceFR'] = AugData['totalCellNum']*AugData['varianceFR']\n",
    "AugData['totalCellNumxAvgTrialSpeed'] = AugData['totalCellNum']*AugData['avgTrialSpeed']\n",
    "AugData['totalCellNumxVarianceSpeed'] = AugData['totalCellNum']*AugData['varianceSpeed']"
   ]
  },
  {
   "cell_type": "code",
   "execution_count": 20,
   "metadata": {},
   "outputs": [],
   "source": [
    "AugData['genderxCorrelationScore'] = AugData['gender']*AugData['correlationScore']\n",
    "AugData['genderxLickAccuracy'] = AugData['gender']*AugData['lickAccuracy']\n",
    "AugData['genderxLickNumber'] = AugData['gender']*AugData['lickNumber']\n",
    "AugData['genderxAvgFR'] = AugData['gender']*AugData['avgFR']\n",
    "AugData['genderxAvgSingleCellVariance'] = AugData['gender']*AugData['avgSingleCellVariance']\n",
    "AugData['genderxVarianceFR'] = AugData['gender']*AugData['varianceFR']\n",
    "AugData['genderxAvgTrialSpeed'] = AugData['gender']*AugData['avgTrialSpeed']\n",
    "AugData['genderxVarianceSpeed'] = AugData['gender']*AugData['varianceSpeed']"
   ]
  },
  {
   "cell_type": "code",
   "execution_count": 21,
   "metadata": {},
   "outputs": [],
   "source": [
    "AugData['genotypexCorrelationScore'] = AugData['genotype']*AugData['correlationScore']\n",
    "AugData['genotypexLickAccuracy'] = AugData['genotype']*AugData['lickAccuracy']\n",
    "AugData['genotypexLickNumber'] = AugData['genotype']*AugData['lickNumber']\n",
    "AugData['genotypexAvgFR'] = AugData['genotype']*AugData['avgFR']\n",
    "AugData['genotypexAvgSingleCellVariance'] = AugData['genotype']*AugData['avgSingleCellVariance']\n",
    "AugData['genotypexVarianceFR'] = AugData['genotype']*AugData['varianceFR']\n",
    "AugData['genotypexAvgTrialSpeed'] = AugData['genotype']*AugData['avgTrialSpeed']\n",
    "AugData['genotypexVarianceSpeed'] = AugData['genotype']*AugData['varianceSpeed']"
   ]
  },
  {
   "cell_type": "code",
   "execution_count": 22,
   "metadata": {},
   "outputs": [],
   "source": [
    "AugData['weight_gxCorrelationScore'] = AugData['weight_g']*AugData['correlationScore']\n",
    "AugData['weight_gxLickAccuracy'] = AugData['weight_g']*AugData['lickAccuracy']\n",
    "AugData['weight_gxLickNumber'] = AugData['weight_g']*AugData['lickNumber']\n",
    "AugData['weight_gxAvgFR'] = AugData['weight_g']*AugData['avgFR']\n",
    "AugData['weight_gxAvgSingleCellVariance'] = AugData['weight_g']*AugData['avgSingleCellVariance']\n",
    "AugData['weight_gxVarianceFR'] = AugData['weight_g']*AugData['varianceFR']\n",
    "AugData['weight_gxAvgTrialSpeed'] = AugData['weight_g']*AugData['avgTrialSpeed']\n",
    "AugData['weight_gxVarianceSpeed'] = AugData['weight_g']*AugData['varianceSpeed']"
   ]
  },
  {
   "cell_type": "code",
   "execution_count": 23,
   "metadata": {},
   "outputs": [],
   "source": [
    "AugData['ketamine_dayxCorrelationScore'] = AugData['ketamine_day']*AugData['correlationScore']\n",
    "AugData['ketamine_dayxLickAccuracy'] = AugData['ketamine_day']*AugData['lickAccuracy']\n",
    "AugData['ketamine_dayxLickNumber'] = AugData['ketamine_day']*AugData['lickNumber']\n",
    "AugData['ketamine_dayxAvgFR'] = AugData['ketamine_day']*AugData['avgFR']\n",
    "AugData['ketamine_dayxAvgSingleCellVariance'] = AugData['ketamine_day']*AugData['avgSingleCellVariance']\n",
    "AugData['ketamine_dayxVarianceFR'] = AugData['ketamine_day']*AugData['varianceFR']\n",
    "AugData['ketamine_dayxAvgTrialSpeed'] = AugData['ketamine_day']*AugData['avgTrialSpeed']\n",
    "AugData['ketamine_dayxVarianceSpeed'] = AugData['ketamine_day']*AugData['varianceSpeed']"
   ]
  },
  {
   "cell_type": "code",
   "execution_count": 24,
   "metadata": {},
   "outputs": [],
   "source": [
    "AugData['medianCellDepthxCorrelationScore'] = AugData['medianCellDepth']*AugData['correlationScore']\n",
    "AugData['medianCellDepthxLickAccuracy'] = AugData['medianCellDepth']*AugData['lickAccuracy']\n",
    "AugData['medianCellDepthxLickNumber'] = AugData['medianCellDepth']*AugData['lickNumber']\n",
    "AugData['medianCellDepthxAvgFR'] = AugData['medianCellDepth']*AugData['avgFR']\n",
    "AugData['medianCellDepthxAvgSingleCellVariance'] = AugData['medianCellDepth']*AugData['avgSingleCellVariance']\n",
    "AugData['medianCellDepthxVarianceFR'] = AugData['medianCellDepth']*AugData['varianceFR']\n",
    "AugData['medianCellDepthxAvgTrialSpeed'] = AugData['medianCellDepth']*AugData['avgTrialSpeed']\n",
    "AugData['medianCellDepthxVarianceSpeed'] = AugData['medianCellDepth']*AugData['varianceSpeed']"
   ]
  },
  {
   "cell_type": "code",
   "execution_count": 25,
   "metadata": {},
   "outputs": [
    {
     "name": "stderr",
     "output_type": "stream",
     "text": [
      "/home/browne/anaconda3/lib/python3.7/site-packages/sklearn/preprocessing/data.py:625: DataConversionWarning: Data with input dtype int64, float64 were all converted to float64 by StandardScaler.\n",
      "  return self.partial_fit(X, y)\n",
      "/home/browne/anaconda3/lib/python3.7/site-packages/sklearn/base.py:462: DataConversionWarning: Data with input dtype int64, float64 were all converted to float64 by StandardScaler.\n",
      "  return self.fit(X, **fit_params).transform(X)\n"
     ]
    }
   ],
   "source": [
    "# Standardize data\n",
    "stdNeuralDataAug = StandardScaler().fit_transform(AugData) "
   ]
  },
  {
   "cell_type": "code",
   "execution_count": 26,
   "metadata": {},
   "outputs": [],
   "source": [
    "# Split off test set for later\n",
    "X, X_ho, y, y_ho = train_test_split(stdNeuralDataAug,timeSinceKetamine.values.ravel(), test_size=0.2, random_state=2019)"
   ]
  },
  {
   "cell_type": "code",
   "execution_count": 27,
   "metadata": {},
   "outputs": [],
   "source": [
    "# Split for cross validation, use 10 folds\n",
    "num_folds = 10\n",
    "XA = np.array(X)\n",
    "yA = np.array(y)\n",
    "X_train = []\n",
    "X_test = []\n",
    "y_train = []\n",
    "y_test = []\n",
    "kf = KFold(n_splits=num_folds)\n",
    "for train_index, test_index in kf.split(XA, yA):\n",
    "    X_train.append(XA[train_index])\n",
    "    X_test.append(XA[test_index])\n",
    "    y_train.append(yA[train_index])\n",
    "    y_test.append(yA[test_index])"
   ]
  },
  {
   "cell_type": "code",
   "execution_count": 28,
   "metadata": {},
   "outputs": [
    {
     "name": "stdout",
     "output_type": "stream",
     "text": [
      "Intercept:  1882.209448651285\n",
      "['animalName', 'totalCellNum', 'gender', 'genotype', 'weight_g', 'ketamine_day', 'correlationScore', 'lickAccuracy', 'lickNumber', 'avgFR', 'avgSingleCellVariance', 'varianceFR', 'avgTrialSpeed', 'varianceSpeed', 'medianCellDepth'] [ 1.32202873e+03 -8.91679131e+02 -2.06782434e+03  6.59351804e+02\n",
      "  7.64377410e+02 -2.08632125e+03 -5.32902729e+02  1.08121105e+03\n",
      " -1.41105840e+01 -3.37318052e+03  1.03249755e+03  1.13663558e+03\n",
      " -1.89808003e+03  7.79734372e+01 -1.59342695e+03  1.83861714e+02\n",
      "  1.52829870e+02 -1.45411245e+02 -7.72091371e+02 -1.79495421e+02\n",
      "  2.49282418e+02 -9.68636013e+02 -4.68015392e+02  3.69227271e+02\n",
      " -3.75314462e+02 -3.27108339e+02  3.96505917e+02  1.92277904e+02\n",
      "  4.20441858e+01  3.53520147e+02  7.28198961e+01 -8.83274314e+02\n",
      "  3.05970931e+02  3.55601020e+02 -1.86602325e+03  3.77074704e+03\n",
      " -6.18993573e+02  1.38501951e+03 -3.65147648e+02 -9.43761107e+01\n",
      "  1.54665444e+02  4.59137890e+01 -1.69314230e+03  2.34941560e+03\n",
      " -7.38502618e+02  1.29824145e+02 -3.17202563e+02  8.41440984e+02\n",
      " -6.30467051e+02  3.52670997e+00  1.74618314e+03 -5.32068004e+03\n",
      "  1.12276741e+03  7.83081844e+02  9.69140010e+02  3.00707198e+02\n",
      " -1.99411562e+02  6.39908126e+01  2.68099617e+03 -5.74977686e+02\n",
      " -5.57100624e+02  8.75358993e+02 -5.86782274e+02 -4.18856382e+01\n",
      " -2.18915645e+02  2.33213773e+02  1.21191515e+03  2.21624222e+03\n",
      " -6.93099690e+02  1.13823488e+02  4.27475283e+02]\n",
      "RMSE:  1513.3468605647722\n",
      "R2: 0.5232942086644587\n",
      "0.11406712970709422\n"
     ]
    }
   ],
   "source": [
    "# Run basic linreg model on full train set, check performance against train\n",
    "model = linear_model.LinearRegression(fit_intercept=True,normalize=False,copy_X=True,n_jobs=None).fit(X,y)\n",
    "\n",
    "print(\"Intercept: \",model.intercept_)\n",
    "print(features,model.coef_)\n",
    "#print(model.coef_)\n",
    "y_pred = model.predict(X)\n",
    "rmse = np.sqrt(mean_squared_error(y,y_pred))\n",
    "r2 = r2_score(y,y_pred)\n",
    "print(\"RMSE: \",rmse)\n",
    "print(\"R2:\",r2)\n",
    "\n",
    "scaled_RMSE = rmse/(max(y)-min(y))\n",
    "print(scaled_RMSE)"
   ]
  },
  {
   "cell_type": "code",
   "execution_count": 29,
   "metadata": {},
   "outputs": [
    {
     "name": "stdout",
     "output_type": "stream",
     "text": [
      "Average RMSE across Folds: 1511.7573978732548\n",
      "Average Scaled RMSE across Folds: 0.11394732541653638\n"
     ]
    }
   ],
   "source": [
    "rmse_cv = []\n",
    "for i in range(0,num_folds):\n",
    "    model = linear_model.LinearRegression(fit_intercept=True,normalize=False,copy_X=True,n_jobs=None).fit(X,y)\n",
    "    y_pred = model.predict(X_test[i])\n",
    "    rmse_cv.append(np.sqrt(mean_squared_error(y_test[i],y_pred)))\n",
    "print(\"Average RMSE across Folds:\",np.mean(rmse_cv))\n",
    "print(\"Average Scaled RMSE across Folds:\",np.mean(rmse_cv)/(max(y)-min(y)))"
   ]
  },
  {
   "cell_type": "code",
   "execution_count": 31,
   "metadata": {},
   "outputs": [
    {
     "name": "stdout",
     "output_type": "stream",
     "text": [
      "Average RMSE across Folds: 1511.7573978732548\n",
      "Average Scaled RMSE across Folds: 0.11394732541653638\n"
     ]
    }
   ],
   "source": [
    "rmse_cv = []\n",
    "for i in range(0,num_folds):\n",
    "    model = linear_model.LinearRegression(fit_intercept=True,normalize=False,copy_X=True,n_jobs=None).fit(X,y)\n",
    "    y_pred = model.predict(X_test[i])\n",
    "    rmse_cv.append(np.sqrt(mean_squared_error(y_test[i],y_pred)))\n",
    "print(\"Average RMSE across Folds:\",np.mean(rmse_cv))\n",
    "print(\"Average Scaled RMSE across Folds:\",np.mean(rmse_cv)/(max(y)-min(y)))"
   ]
  },
  {
   "cell_type": "code",
   "execution_count": 33,
   "metadata": {},
   "outputs": [
    {
     "name": "stdout",
     "output_type": "stream",
     "text": [
      "RMSE:  1544.0262848099287\n",
      "R2: 0.5359175043695535\n",
      "0.11637956313257161\n"
     ]
    }
   ],
   "source": [
    "# Check performance on test set\n",
    "model = linear_model.LinearRegression(fit_intercept=True,normalize=False,copy_X=True,n_jobs=None).fit(X,y)\n",
    "y_pred = model.predict(X_ho)\n",
    "rmse = np.sqrt(mean_squared_error(y_ho,y_pred))\n",
    "r2 = r2_score(y_ho,y_pred)\n",
    "print(\"RMSE: \",rmse)\n",
    "print(\"R2:\",r2)\n",
    "\n",
    "scaled_RMSE = rmse/(max(y)-min(y))\n",
    "print(scaled_RMSE)"
   ]
  }
 ],
 "metadata": {
  "kernelspec": {
   "display_name": "Python 3",
   "language": "python",
   "name": "python3"
  },
  "language_info": {
   "codemirror_mode": {
    "name": "ipython",
    "version": 3
   },
   "file_extension": ".py",
   "mimetype": "text/x-python",
   "name": "python",
   "nbconvert_exporter": "python",
   "pygments_lexer": "ipython3",
   "version": "3.7.4"
  }
 },
 "nbformat": 4,
 "nbformat_minor": 2
}
