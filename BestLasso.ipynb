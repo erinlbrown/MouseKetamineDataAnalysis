{
 "cells": [
  {
   "cell_type": "code",
   "execution_count": 44,
   "metadata": {},
   "outputs": [],
   "source": [
    "library(boot)\n",
    "library(glmnet)"
   ]
  },
  {
   "cell_type": "code",
   "execution_count": 2,
   "metadata": {},
   "outputs": [],
   "source": [
    "set.seed(2019)"
   ]
  },
  {
   "cell_type": "code",
   "execution_count": 3,
   "metadata": {},
   "outputs": [],
   "source": [
    "train <- read.csv(\"trainC.csv\")\n",
    "test <- read.csv(\"testC.csv\")\n",
    "train <- subset(train, select = -c(sessionDate, trialNum, timeSinceKetamine))\n",
    "test <- subset(test, select = -c(sessionDate, trialNum, timeSinceKetamine))\n",
    "\n",
    "#TRAIN 1: ALL COVARIATES PLUS INTERACTION TERMS\n",
    "train1 <- read.csv(\"trainC.csv\")\n",
    "test1 <- read.csv(\"testC.csv\")\n",
    "train1 <- subset(train1, select = -c(sessionDate, trialNum, timeSinceKetamine))\n",
    "test1 <- subset(test1, select = -c(sessionDate, trialNum, timeSinceKetamine))\n",
    "\n",
    "#TRAIN 2: ALL COVARIATES NO INTERACTION TERMS\n",
    "train2 <- subset(train1, select = c(totalCellNum,gender,genotype,weight_g,ketamine_day,\n",
    "                                    correlationScore,lickAccuracy,lickNumber,avgFR,\n",
    "                                    avgSingleCellVariance,varianceFR,avgTrialSpeed,\n",
    "                                    varianceSpeed,medianCellDepth,ketBool))\n",
    "test2 <- subset(test1, select = c(totalCellNum,gender,genotype,weight_g,ketamine_day,\n",
    "                                    correlationScore,lickAccuracy,lickNumber,avgFR,\n",
    "                                    avgSingleCellVariance,varianceFR,avgTrialSpeed,\n",
    "                                    varianceSpeed,medianCellDepth,ketBool))"
   ]
  },
  {
   "cell_type": "code",
   "execution_count": 4,
   "metadata": {},
   "outputs": [],
   "source": [
    "# First, let's do a 50% split on the training data to determine the best lambda\n",
    "n = length(train[,1])\n",
    "n50 = round(n/2)\n",
    "train50A = train[1:n50,]\n",
    "train50B = train[(n50+1):n,]\n",
    "\n",
    "xA = model.matrix(ketBool ~ . + animalName:correlationScore\n",
    "                    + animalName:lickAccuracy\n",
    "                    + animalName:lickNumber\n",
    "                    + animalName:avgFR\n",
    "                    + animalName:avgSingleCellVariance\n",
    "                    + animalName:varianceFR\n",
    "                    + animalName:avgTrialSpeed\n",
    "                    + animalName:varianceSpeed-1, data = train50A)\n",
    "yA = train50A$ketBool\n",
    "\n",
    "xB = model.matrix(ketBool ~ . + animalName:correlationScore\n",
    "                    + animalName:lickAccuracy\n",
    "                    + animalName:lickNumber\n",
    "                    + animalName:avgFR\n",
    "                    + animalName:avgSingleCellVariance\n",
    "                    + animalName:varianceFR\n",
    "                    + animalName:avgTrialSpeed\n",
    "                    + animalName:varianceSpeed-1, data = train50B)\n",
    "yB = train50B$ketBool"
   ]
  },
  {
   "cell_type": "code",
   "execution_count": 5,
   "metadata": {},
   "outputs": [
    {
     "name": "stdout",
     "output_type": "stream",
     "text": [
      "lambda_min_lasso =  0.001487149 \n",
      "lambda_1se_lasso =  0.003770465 \n"
     ]
    }
   ],
   "source": [
    "# Select regularization parameter over trainA (50% of training data)\n",
    "model_lasso <- cv.glmnet(xA, yA, family='binomial',alpha=1)\n",
    "\n",
    "lambda_min_lasso = model_lasso$lambda.min\n",
    "cat(\"lambda_min_lasso = \",lambda_min_lasso,\"\\n\")\n",
    "\n",
    "#lambda_1se_lasso = model_lasso$lambda.1se\n",
    "#cat(\"lambda_1se_lasso = \",lambda_1se_lasso,\"\\n\")\n",
    "\n",
    "best_lasso_model <- glmnet(xB, yB, family='binomial',alpha=1,lambda=lambda_min_lasso)\n",
    "fitted_coef_lasso <- coef(best_lasso_model)"
   ]
  },
  {
   "cell_type": "code",
   "execution_count": 8,
   "metadata": {},
   "outputs": [
    {
     "name": "stdout",
     "output_type": "stream",
     "text": [
      "lambda_min_ridge =  0.02988029 \n"
     ]
    }
   ],
   "source": [
    "# Select regularization parameter over trainA (50% of training data)\n",
    "model_lasso <- cv.glmnet(xA, yA, family='binomial',alpha=0)\n",
    "lambda_min_ridge = model_lasso$lambda.min\n",
    "cat(\"lambda_min_ridge = \",lambda_min_ridge,\"\\n\")\n",
    "\n",
    "#lambda_1se_ridge = model_lasso$lambda.1se\n",
    "#cat(\"lambda_1se_ridge = \",lambda_1se_ridge,\"\\n\")\n",
    "\n",
    "best_ridge_model <- glmnet(xB, yB, family='binomial',alpha=0,lambda=lambda_min_ridge)\n",
    "fitted_coef_ridge <- coef(best_ridge_model)"
   ]
  },
  {
   "cell_type": "markdown",
   "metadata": {},
   "source": [
    "## Performance on Test Set"
   ]
  },
  {
   "cell_type": "code",
   "execution_count": 45,
   "metadata": {},
   "outputs": [],
   "source": [
    "x = model.matrix(ketBool ~ . + animalName:correlationScore\n",
    "                    + animalName:lickAccuracy\n",
    "                    + animalName:lickNumber\n",
    "                    + animalName:avgFR\n",
    "                    + animalName:avgSingleCellVariance\n",
    "                    + animalName:varianceFR\n",
    "                    + animalName:avgTrialSpeed\n",
    "                    + animalName:varianceSpeed-1, data = test)\n",
    "y = test$ketBool\n"
   ]
  },
  {
   "cell_type": "code",
   "execution_count": null,
   "metadata": {},
   "outputs": [],
   "source": [
    "pred_lo = predict(best_lasso_model, newx = x)\n",
    "num_val = length(y)\n",
    "lr_pred = rep(0,num_val)\n",
    "actual = rep(0,num_val)\n",
    "for (j in 1:num_val){\n",
    "    if (pred_lo[j]>0){\n",
    "        lr_pred[j]=1\n",
    "    }\n",
    "    actual[j] = y[j]\n",
    "}\n",
    "# Compute 0-1 loss for each observation\n",
    "lr_loss = abs(lr_pred-actual) # loss is 0 if NB_pred=actual, 1 otherwise\n",
    "# Compute mean 0-1 loss on the val set\n",
    "zoloss[k] = mean(lr_loss)\n",
    "test_error_est = mean(zoloss)"
   ]
  },
  {
   "cell_type": "markdown",
   "metadata": {},
   "source": [
    "## Bootstrap with Lasso for confidence intervals"
   ]
  },
  {
   "cell_type": "code",
   "execution_count": 47,
   "metadata": {},
   "outputs": [],
   "source": [
    "df = train50B\n",
    "coef.bootL = function(data, indices) {\n",
    "    dataT = data[indices,]\n",
    "    xB = model.matrix(ketBool ~ . + animalName:correlationScore\n",
    "                    + animalName:lickAccuracy\n",
    "                    + animalName:lickNumber\n",
    "                    + animalName:avgFR\n",
    "                    + animalName:avgSingleCellVariance\n",
    "                    + animalName:varianceFR\n",
    "                    + animalName:avgTrialSpeed\n",
    "                    + animalName:varianceSpeed-1, data = dataT)\n",
    "    yB = dataT$ketBool\n",
    "    fm = glmnet(xB, yB, family='binomial',alpha=1,lambda=lambda_min_lasso)\n",
    "    cat(length(coef(fm)))\n",
    "    return(coef(fm))\n",
    "}"
   ]
  },
  {
   "cell_type": "code",
   "execution_count": null,
   "metadata": {},
   "outputs": [],
   "source": [
    "boot.outL = boot(df, coef.bootL, 5000)\n",
    "\n",
    "#boot.out.lasso.5000 = boot(df, coef.boot.lasso, 5000)\n",
    "#boot.out.lasso.5000"
   ]
  },
  {
   "cell_type": "code",
   "execution_count": 39,
   "metadata": {},
   "outputs": [],
   "source": [
    "cf <- coef(best_lasso_model)"
   ]
  },
  {
   "cell_type": "code",
   "execution_count": 42,
   "metadata": {},
   "outputs": [
    {
     "data": {
      "text/html": [
       "0"
      ],
      "text/latex": [
       "0"
      ],
      "text/markdown": [
       "0"
      ],
      "text/plain": [
       "[1] 0"
      ]
     },
     "metadata": {},
     "output_type": "display_data"
    }
   ],
   "source": [
    "cf[3]"
   ]
  },
  {
   "cell_type": "code",
   "execution_count": 41,
   "metadata": {},
   "outputs": [
    {
     "data": {
      "text/plain": [
       "181 x 1 sparse Matrix of class \"dgCMatrix\"\n",
       "                                               s0\n",
       "(Intercept)                            0.43258927\n",
       "animalNameG1                          -0.43788900\n",
       "animalNameG2                           .         \n",
       "animalNameG3                           0.60268131\n",
       "animalNameG4                           1.15443858\n",
       "animalNameG5                          -0.88261012\n",
       "animalNameHCN1                         3.95489335\n",
       "animalNameHCNb2                       -2.20361742\n",
       "animalNameHCNb4                        .         \n",
       "animalNameHCNd1                        .         \n",
       "animalNameHCNd2                       -0.53378286\n",
       "animalNameHCNe1                        .         \n",
       "animalNameHCNe2                        .         \n",
       "animalNameHCNe3                        .         \n",
       "animalNamenpI1                         .         \n",
       "totalCellNum                           0.08646754\n",
       "gender                                 .         \n",
       "genotype                               .         \n",
       "weight_g                               .         \n",
       "ketamine_day                           .         \n",
       "correlationScore                      -1.70712439\n",
       "lickAccuracy                          -0.19398585\n",
       "lickNumber                            -0.10118741\n",
       "avgFR                                  1.86162454\n",
       "avgSingleCellVariance                  .         \n",
       "varianceFR                             .         \n",
       "avgTrialSpeed                          .         \n",
       "varianceSpeed                          .         \n",
       "medianCellDepth                        .         \n",
       "totalCellNumxCorrelationScore         -0.62679959\n",
       "totalCellNumxLickAccuracy              .         \n",
       "totalCellNumxLickNumber                .         \n",
       "totalCellNumxAvgFR                     0.88422472\n",
       "totalCellNumxAvgSingleCellVariance     .         \n",
       "totalCellNumxVarianceFR               -0.46386860\n",
       "totalCellNumxAvgTrialSpeed             .         \n",
       "totalCellNumxVarianceSpeed             .         \n",
       "genderxCorrelationScore                .         \n",
       "genderxLickAccuracy                    .         \n",
       "genderxLickNumber                      .         \n",
       "genderxAvgFR                          -0.09070083\n",
       "genderxAvgSingleCellVariance          -0.00139866\n",
       "genderxVarianceFR                     -0.29720719\n",
       "genderxAvgTrialSpeed                  -0.47272310\n",
       "genderxVarianceSpeed                   .         \n",
       "genotypexCorrelationScore              .         \n",
       "genotypexLickAccuracy                  .         \n",
       "genotypexLickNumber                   -0.29644331\n",
       "genotypexAvgFR                         0.24652446\n",
       "genotypexAvgSingleCellVariance         .         \n",
       "genotypexVarianceFR                    .         \n",
       "genotypexAvgTrialSpeed                 .         \n",
       "genotypexVarianceSpeed                 .         \n",
       "weight_gxCorrelationScore              .         \n",
       "weight_gxLickAccuracy                  .         \n",
       "weight_gxLickNumber                    .         \n",
       "weight_gxAvgFR                         .         \n",
       "weight_gxAvgSingleCellVariance        -0.02655404\n",
       "weight_gxVarianceFR                    .         \n",
       "weight_gxAvgTrialSpeed                 .         \n",
       "weight_gxVarianceSpeed                -0.70539319\n",
       "ketamine_dayxCorrelationScore          0.02460801\n",
       "ketamine_dayxLickAccuracy             -0.32823959\n",
       "ketamine_dayxLickNumber               -0.19979577\n",
       "ketamine_dayxAvgFR                     .         \n",
       "ketamine_dayxAvgSingleCellVariance     .         \n",
       "ketamine_dayxVarianceFR                .         \n",
       "ketamine_dayxAvgTrialSpeed             0.03599283\n",
       "ketamine_dayxVarianceSpeed             0.03799045\n",
       "medianCellDepthxCorrelationScore      -0.12835118\n",
       "medianCellDepthxLickAccuracy           .         \n",
       "medianCellDepthxLickNumber            -0.08741071\n",
       "medianCellDepthxAvgFR                  .         \n",
       "medianCellDepthxAvgSingleCellVariance  .         \n",
       "medianCellDepthxVarianceFR             .         \n",
       "medianCellDepthxAvgTrialSpeed          .         \n",
       "medianCellDepthxVarianceSpeed         -0.30470407\n",
       "animalNameG2:correlationScore         -0.02724691\n",
       "animalNameG3:correlationScore         -1.55160661\n",
       "animalNameG4:correlationScore         -1.09891806\n",
       "animalNameG5:correlationScore          1.24897500\n",
       "animalNameHCN1:correlationScore        0.90131123\n",
       "animalNameHCNb2:correlationScore       .         \n",
       "animalNameHCNb4:correlationScore       2.22317581\n",
       "animalNameHCNd1:correlationScore       2.06554420\n",
       "animalNameHCNd2:correlationScore       0.91348169\n",
       "animalNameHCNe1:correlationScore      -0.47070182\n",
       "animalNameHCNe2:correlationScore      -1.08894205\n",
       "animalNameHCNe3:correlationScore      -0.70146632\n",
       "animalNamenpI1:correlationScore        1.55615972\n",
       "animalNameG2:lickAccuracy             -0.33629841\n",
       "animalNameG3:lickAccuracy              0.78177704\n",
       "animalNameG4:lickAccuracy             -0.40428817\n",
       "animalNameG5:lickAccuracy              .         \n",
       "animalNameHCN1:lickAccuracy            0.42297806\n",
       "animalNameHCNb2:lickAccuracy           .         \n",
       "animalNameHCNb4:lickAccuracy           .         \n",
       "animalNameHCNd1:lickAccuracy           .         \n",
       "animalNameHCNd2:lickAccuracy          -0.65049343\n",
       "animalNameHCNe1:lickAccuracy          -0.24377517\n",
       "animalNameHCNe2:lickAccuracy           0.02281573\n",
       "animalNameHCNe3:lickAccuracy           0.02948983\n",
       "animalNamenpI1:lickAccuracy           -1.23935680\n",
       "animalNameG2:lickNumber                .         \n",
       "animalNameG3:lickNumber                .         \n",
       "animalNameG4:lickNumber                .         \n",
       "animalNameG5:lickNumber               -0.84611877\n",
       "animalNameHCN1:lickNumber              0.13908219\n",
       "animalNameHCNb2:lickNumber            -1.76950948\n",
       "animalNameHCNb4:lickNumber             0.83262766\n",
       "animalNameHCNd1:lickNumber             .         \n",
       "animalNameHCNd2:lickNumber            -1.50890881\n",
       "animalNameHCNe1:lickNumber            -0.76669929\n",
       "animalNameHCNe2:lickNumber             .         \n",
       "animalNameHCNe3:lickNumber             .         \n",
       "animalNamenpI1:lickNumber             -0.62563007\n",
       "animalNameG2:avgFR                     .         \n",
       "animalNameG3:avgFR                     .         \n",
       "animalNameG4:avgFR                     2.84558693\n",
       "animalNameG5:avgFR                     0.22043678\n",
       "animalNameHCN1:avgFR                   7.16974099\n",
       "animalNameHCNb2:avgFR                  .         \n",
       "animalNameHCNb4:avgFR                  2.45673852\n",
       "animalNameHCNd1:avgFR                 -1.19051859\n",
       "animalNameHCNd2:avgFR                  .         \n",
       "animalNameHCNe1:avgFR                  0.05239364\n",
       "animalNameHCNe2:avgFR                 -0.35352108\n",
       "animalNameHCNe3:avgFR                  .         \n",
       "animalNamenpI1:avgFR                  -2.56890891\n",
       "animalNameG2:avgSingleCellVariance     .         \n",
       "animalNameG3:avgSingleCellVariance     1.43174768\n",
       "animalNameG4:avgSingleCellVariance     .         \n",
       "animalNameG5:avgSingleCellVariance    -1.99101455\n",
       "animalNameHCN1:avgSingleCellVariance   1.08995449\n",
       "animalNameHCNb2:avgSingleCellVariance -2.88553975\n",
       "animalNameHCNb4:avgSingleCellVariance  6.05087864\n",
       "animalNameHCNd1:avgSingleCellVariance -0.77295706\n",
       "animalNameHCNd2:avgSingleCellVariance  .         \n",
       "animalNameHCNe1:avgSingleCellVariance  2.04828003\n",
       "animalNameHCNe2:avgSingleCellVariance  .         \n",
       "animalNameHCNe3:avgSingleCellVariance  .         \n",
       "animalNamenpI1:avgSingleCellVariance   .         \n",
       "animalNameG2:varianceFR                .         \n",
       "animalNameG3:varianceFR                0.47833435\n",
       "animalNameG4:varianceFR                .         \n",
       "animalNameG5:varianceFR                0.40279496\n",
       "animalNameHCN1:varianceFR              1.40975966\n",
       "animalNameHCNb2:varianceFR             0.02133516\n",
       "animalNameHCNb4:varianceFR             .         \n",
       "animalNameHCNd1:varianceFR             .         \n",
       "animalNameHCNd2:varianceFR            -3.32410330\n",
       "animalNameHCNe1:varianceFR             .         \n",
       "animalNameHCNe2:varianceFR             0.50612236\n",
       "animalNameHCNe3:varianceFR             1.15604869\n",
       "animalNamenpI1:varianceFR              .         \n",
       "animalNameG2:avgTrialSpeed             0.48329101\n",
       "animalNameG3:avgTrialSpeed             .         \n",
       "animalNameG4:avgTrialSpeed             .         \n",
       "animalNameG5:avgTrialSpeed            -0.71259729\n",
       "animalNameHCN1:avgTrialSpeed          -0.84470174\n",
       "animalNameHCNb2:avgTrialSpeed          .         \n",
       "animalNameHCNb4:avgTrialSpeed         -0.02440142\n",
       "animalNameHCNd1:avgTrialSpeed         -0.80569560\n",
       "animalNameHCNd2:avgTrialSpeed          .         \n",
       "animalNameHCNe1:avgTrialSpeed          .         \n",
       "animalNameHCNe2:avgTrialSpeed          .         \n",
       "animalNameHCNe3:avgTrialSpeed          0.44937712\n",
       "animalNamenpI1:avgTrialSpeed          -1.59717753\n",
       "animalNameG2:varianceSpeed             .         \n",
       "animalNameG3:varianceSpeed             .         \n",
       "animalNameG4:varianceSpeed            -0.85328165\n",
       "animalNameG5:varianceSpeed            -1.44508511\n",
       "animalNameHCN1:varianceSpeed           .         \n",
       "animalNameHCNb2:varianceSpeed         -0.71854162\n",
       "animalNameHCNb4:varianceSpeed         -5.67457478\n",
       "animalNameHCNd1:varianceSpeed         -0.91036655\n",
       "animalNameHCNd2:varianceSpeed          .         \n",
       "animalNameHCNe1:varianceSpeed          .         \n",
       "animalNameHCNe2:varianceSpeed         -2.03066153\n",
       "animalNameHCNe3:varianceSpeed          0.71347669\n",
       "animalNamenpI1:varianceSpeed          -1.98119696"
      ]
     },
     "metadata": {},
     "output_type": "display_data"
    }
   ],
   "source": [
    "cf"
   ]
  },
  {
   "cell_type": "code",
   "execution_count": null,
   "metadata": {},
   "outputs": [],
   "source": []
  }
 ],
 "metadata": {
  "kernelspec": {
   "display_name": "R",
   "language": "R",
   "name": "ir"
  },
  "language_info": {
   "codemirror_mode": "r",
   "file_extension": ".r",
   "mimetype": "text/x-r-source",
   "name": "R",
   "pygments_lexer": "r",
   "version": "3.6.1"
  }
 },
 "nbformat": 4,
 "nbformat_minor": 2
}
