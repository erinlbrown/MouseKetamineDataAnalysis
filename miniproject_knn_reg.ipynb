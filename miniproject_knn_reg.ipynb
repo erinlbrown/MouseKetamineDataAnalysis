{
 "cells": [
  {
   "cell_type": "markdown",
   "metadata": {},
   "source": [
    "## k-Nearest Neighbors for REGRESSION"
   ]
  },
  {
   "cell_type": "code",
   "execution_count": 35,
   "metadata": {},
   "outputs": [],
   "source": [
    "# packages\n",
    "import os\n",
    "import pandas as pd\n",
    "import math\n",
    "from scipy import io\n",
    "import numpy as np\n",
    "from numpy import squeeze\n",
    "from sklearn import linear_model\n",
    "from sklearn.metrics import mean_squared_error\n",
    "from sklearn.model_selection import train_test_split\n",
    "from sklearn.preprocessing import StandardScaler\n",
    "from sklearn.preprocessing import LabelEncoder\n",
    "from sklearn.model_selection import KFold\n",
    "from sklearn.metrics import zero_one_loss\n",
    "from sklearn.metrics import accuracy_score\n",
    "from sklearn.neighbors import KNeighborsRegressor\n",
    "import matplotlib.pyplot as plt\n",
    "from matplotlib import style\n",
    "style.use('ggplot') "
   ]
  },
  {
   "cell_type": "code",
   "execution_count": 36,
   "metadata": {},
   "outputs": [],
   "source": [
    "allData = pd.read_csv('postKetamineTable.csv')"
   ]
  },
  {
   "cell_type": "code",
   "execution_count": 37,
   "metadata": {},
   "outputs": [
    {
     "name": "stdout",
     "output_type": "stream",
     "text": [
      "After Drop NaN\n",
      "num_rows = 4995\n"
     ]
    }
   ],
   "source": [
    "# Remove any rows with nans\n",
    "allDataNN = pd.DataFrame.dropna(allData,'index')\n",
    "print(\"After Drop NaN\")\n",
    "print(\"num_rows =\",len(allDataNN))"
   ]
  },
  {
   "cell_type": "code",
   "execution_count": 38,
   "metadata": {},
   "outputs": [],
   "source": [
    "ketBool = allDataNN['ketamineAdministered']\n",
    "timeSinceKetamine = allDataNN['timeSinceKetamine']\n",
    "sessionDate = allDataNN['sessionDate']\n",
    "trialNum = allDataNN['trialNum']\n",
    "neuralData = allDataNN[['animalName', 'totalCellNum',\n",
    "       'gender', 'genotype', 'weight_g',\n",
    "       'ketamine_day', 'correlationScore', 'lickAccuracy',\n",
    "       'lickNumber', 'avgFR', 'avgSingleCellVariance',\n",
    "       'varianceFR', 'avgTrialSpeed', 'varianceSpeed',\n",
    "       'medianCellDepth']]"
   ]
  },
  {
   "cell_type": "code",
   "execution_count": 39,
   "metadata": {},
   "outputs": [],
   "source": [
    "# Convert categorical columns\n",
    "le = LabelEncoder()\n",
    "neuralData_LE = neuralData.copy()\n",
    "neuralData_LE['animalName'] = le.fit_transform(neuralData_LE['animalName'])\n",
    "neuralData_LE['gender'] = le.fit_transform(neuralData_LE['gender'])\n",
    "neuralData_LE['genotype'] = le.fit_transform(neuralData_LE['genotype'])\n",
    "features = list(neuralData_LE.keys())"
   ]
  },
  {
   "cell_type": "code",
   "execution_count": 40,
   "metadata": {},
   "outputs": [
    {
     "name": "stderr",
     "output_type": "stream",
     "text": [
      "/home/browne/anaconda3/lib/python3.7/site-packages/sklearn/preprocessing/data.py:625: DataConversionWarning: Data with input dtype int64, float64 were all converted to float64 by StandardScaler.\n",
      "  return self.partial_fit(X, y)\n",
      "/home/browne/anaconda3/lib/python3.7/site-packages/sklearn/base.py:462: DataConversionWarning: Data with input dtype int64, float64 were all converted to float64 by StandardScaler.\n",
      "  return self.fit(X, **fit_params).transform(X)\n"
     ]
    }
   ],
   "source": [
    "# Standardize data\n",
    "stdNeuralData = StandardScaler().fit_transform(neuralData_LE) "
   ]
  },
  {
   "cell_type": "code",
   "execution_count": 41,
   "metadata": {},
   "outputs": [],
   "source": [
    "# Split off test set for later\n",
    "X, X_test, y, y_test = train_test_split(stdNeuralData,timeSinceKetamine.values.ravel(), test_size=0.2)"
   ]
  },
  {
   "cell_type": "code",
   "execution_count": 42,
   "metadata": {},
   "outputs": [],
   "source": [
    "# Split for cross validation, use 10 folds\n",
    "num_folds = 10\n",
    "XA = np.array(X)\n",
    "yA = np.array(y)\n",
    "X_train = []\n",
    "X_test = []\n",
    "y_train = []\n",
    "y_test = []\n",
    "kf = KFold(n_splits=num_folds)\n",
    "for train_index, test_index in kf.split(XA, yA):\n",
    "    X_train.append(XA[train_index])\n",
    "    X_test.append(XA[test_index])\n",
    "    y_train.append(yA[train_index])\n",
    "    y_test.append(yA[test_index])"
   ]
  },
  {
   "cell_type": "code",
   "execution_count": 43,
   "metadata": {},
   "outputs": [
    {
     "name": "stdout",
     "output_type": "stream",
     "text": [
      "Average RMSE across Folds: 853.4716346360168\n",
      "Average Scaled RMSE across Folds: 0.06197069996442225\n"
     ]
    }
   ],
   "source": [
    "rmse_cv = []\n",
    "for i in range(0,num_folds):\n",
    "    knn = KNeighborsRegressor(n_neighbors=5, metric='euclidean').fit(X_train[i],y_train[i])    \n",
    "    y_pred = knn.predict(X_test[i])\n",
    "    rmse_cv.append(np.sqrt(mean_squared_error(y_test[i],y_pred)))\n",
    "    \n",
    "print(\"Average RMSE across Folds:\",np.mean(rmse_cv))\n",
    "print(\"Average Scaled RMSE across Folds:\",np.mean(rmse_cv)/(max(y)-min(y)))"
   ]
  },
  {
   "cell_type": "code",
   "execution_count": 44,
   "metadata": {},
   "outputs": [],
   "source": [
    "avg_rmse = []\n",
    "for k in [1,3,5,6,7,8,10,15,20]:\n",
    "    rmse = []\n",
    "    for i in range(0,num_folds):\n",
    "        knn = KNeighborsRegressor(n_neighbors=k, metric='euclidean').fit(X_train[i],y_train[i])    \n",
    "        y_pred = knn.predict(X_test[i])\n",
    "        rmse.append(np.sqrt(mean_squared_error(y_test[i],y_pred)))\n",
    "    avg_rmse.append(np.mean(rmse))\n",
    "avg_scaled_rmse = avg_rmse/(max(y)-min(y))"
   ]
  },
  {
   "cell_type": "code",
   "execution_count": 45,
   "metadata": {},
   "outputs": [
    {
     "data": {
      "text/plain": [
       "[924.0082872225673,\n",
       " 857.9001586261759,\n",
       " 853.4716346360168,\n",
       " 841.9998230884452,\n",
       " 827.2383878734227,\n",
       " 841.4674660909595,\n",
       " 851.3229975479755,\n",
       " 925.9300390632383,\n",
       " 989.6543402804988]"
      ]
     },
     "execution_count": 45,
     "metadata": {},
     "output_type": "execute_result"
    }
   ],
   "source": [
    "avg_rmse"
   ]
  },
  {
   "cell_type": "code",
   "execution_count": 24,
   "metadata": {},
   "outputs": [
    {
     "data": {
      "text/plain": [
       "array([0.06777673, 0.06008589, 0.06001622, 0.0598738 , 0.0591028 ,\n",
       "       0.05978212, 0.06073132, 0.0668751 , 0.07089633])"
      ]
     },
     "execution_count": 24,
     "metadata": {},
     "output_type": "execute_result"
    }
   ],
   "source": [
    "avg_scaled_rmse"
   ]
  },
  {
   "cell_type": "code",
   "execution_count": 46,
   "metadata": {},
   "outputs": [
    {
     "data": {
      "text/plain": [
       "827.2383878734227"
      ]
     },
     "execution_count": 46,
     "metadata": {},
     "output_type": "execute_result"
    }
   ],
   "source": [
    "min(avg_rmse)"
   ]
  },
  {
   "cell_type": "markdown",
   "metadata": {},
   "source": [
    "#### Best Avg Scaled RMSE is with k = 7\n",
    "Average RMSE: 827.2383878734227\n",
    "    \n",
    "Average Scaled RMSE: 0.0591028 "
   ]
  },
  {
   "cell_type": "markdown",
   "metadata": {},
   "source": [
    "### Now what if we augment? does that help?"
   ]
  },
  {
   "cell_type": "code",
   "execution_count": 48,
   "metadata": {},
   "outputs": [
    {
     "data": {
      "text/plain": [
       "Index(['animalName', 'totalCellNum', 'gender', 'genotype', 'weight_g',\n",
       "       'ketamine_day', 'correlationScore', 'lickAccuracy', 'lickNumber',\n",
       "       'avgFR', 'avgSingleCellVariance', 'varianceFR', 'avgTrialSpeed',\n",
       "       'varianceSpeed', 'medianCellDepth'],\n",
       "      dtype='object')"
      ]
     },
     "execution_count": 48,
     "metadata": {},
     "output_type": "execute_result"
    }
   ],
   "source": [
    "AugData = neuralData_LE.copy()\n",
    "AugData.keys()"
   ]
  },
  {
   "cell_type": "code",
   "execution_count": 49,
   "metadata": {},
   "outputs": [],
   "source": [
    "AugData['animalNamexCorrelationScore'] = AugData['animalName']*AugData['correlationScore']\n",
    "AugData['animalNamexLickAccuracy'] = AugData['animalName']*AugData['lickAccuracy']\n",
    "AugData['animalNamexLickNumber'] = AugData['animalName']*AugData['lickNumber']\n",
    "AugData['animalNamexAvgFR'] = AugData['animalName']*AugData['avgFR']\n",
    "AugData['animalNamexAvgSingleCellVariance'] = AugData['animalName']*AugData['avgSingleCellVariance']\n",
    "AugData['animalNamexVarianceFR'] = AugData['animalName']*AugData['varianceFR']\n",
    "AugData['animalNamexAvgTrialSpeed'] = AugData['animalName']*AugData['avgTrialSpeed']\n",
    "AugData['animalNamexVarianceSpeed'] = AugData['animalName']*AugData['varianceSpeed']\n",
    "\n",
    "AugData['totalCellNumxCorrelationScore'] = AugData['totalCellNum']*AugData['correlationScore']\n",
    "AugData['totalCellNumxLickAccuracy'] = AugData['totalCellNum']*AugData['lickAccuracy']\n",
    "AugData['totalCellNumxLickNumber'] = AugData['totalCellNum']*AugData['lickNumber']\n",
    "AugData['totalCellNumxAvgFR'] = AugData['totalCellNum']*AugData['avgFR']\n",
    "AugData['totalCellNumxAvgSingleCellVariance'] = AugData['totalCellNum']*AugData['avgSingleCellVariance']\n",
    "AugData['totalCellNumxVarianceFR'] = AugData['totalCellNum']*AugData['varianceFR']\n",
    "AugData['totalCellNumxAvgTrialSpeed'] = AugData['totalCellNum']*AugData['avgTrialSpeed']\n",
    "AugData['totalCellNumxVarianceSpeed'] = AugData['totalCellNum']*AugData['varianceSpeed']\n",
    "\n",
    "AugData['genderxCorrelationScore'] = AugData['gender']*AugData['correlationScore']\n",
    "AugData['genderxLickAccuracy'] = AugData['gender']*AugData['lickAccuracy']\n",
    "AugData['genderxLickNumber'] = AugData['gender']*AugData['lickNumber']\n",
    "AugData['genderxAvgFR'] = AugData['gender']*AugData['avgFR']\n",
    "AugData['genderxAvgSingleCellVariance'] = AugData['gender']*AugData['avgSingleCellVariance']\n",
    "AugData['genderxVarianceFR'] = AugData['gender']*AugData['varianceFR']\n",
    "AugData['genderxAvgTrialSpeed'] = AugData['gender']*AugData['avgTrialSpeed']\n",
    "AugData['genderxVarianceSpeed'] = AugData['gender']*AugData['varianceSpeed']\n",
    "\n",
    "AugData['genotypexCorrelationScore'] = AugData['genotype']*AugData['correlationScore']\n",
    "AugData['genotypexLickAccuracy'] = AugData['genotype']*AugData['lickAccuracy']\n",
    "AugData['genotypexLickNumber'] = AugData['genotype']*AugData['lickNumber']\n",
    "AugData['genotypexAvgFR'] = AugData['genotype']*AugData['avgFR']\n",
    "AugData['genotypexAvgSingleCellVariance'] = AugData['genotype']*AugData['avgSingleCellVariance']\n",
    "AugData['genotypexVarianceFR'] = AugData['genotype']*AugData['varianceFR']\n",
    "AugData['genotypexAvgTrialSpeed'] = AugData['genotype']*AugData['avgTrialSpeed']\n",
    "AugData['genotypexVarianceSpeed'] = AugData['genotype']*AugData['varianceSpeed']\n",
    "\n",
    "AugData['weight_gxCorrelationScore'] = AugData['weight_g']*AugData['correlationScore']\n",
    "AugData['weight_gxLickAccuracy'] = AugData['weight_g']*AugData['lickAccuracy']\n",
    "AugData['weight_gxLickNumber'] = AugData['weight_g']*AugData['lickNumber']\n",
    "AugData['weight_gxAvgFR'] = AugData['weight_g']*AugData['avgFR']\n",
    "AugData['weight_gxAvgSingleCellVariance'] = AugData['weight_g']*AugData['avgSingleCellVariance']\n",
    "AugData['weight_gxVarianceFR'] = AugData['weight_g']*AugData['varianceFR']\n",
    "AugData['weight_gxAvgTrialSpeed'] = AugData['weight_g']*AugData['avgTrialSpeed']\n",
    "AugData['weight_gxVarianceSpeed'] = AugData['weight_g']*AugData['varianceSpeed']\n",
    "\n",
    "AugData['ketamine_dayxCorrelationScore'] = AugData['ketamine_day']*AugData['correlationScore']\n",
    "AugData['ketamine_dayxLickAccuracy'] = AugData['ketamine_day']*AugData['lickAccuracy']\n",
    "AugData['ketamine_dayxLickNumber'] = AugData['ketamine_day']*AugData['lickNumber']\n",
    "AugData['ketamine_dayxAvgFR'] = AugData['ketamine_day']*AugData['avgFR']\n",
    "AugData['ketamine_dayxAvgSingleCellVariance'] = AugData['ketamine_day']*AugData['avgSingleCellVariance']\n",
    "AugData['ketamine_dayxVarianceFR'] = AugData['ketamine_day']*AugData['varianceFR']\n",
    "AugData['ketamine_dayxAvgTrialSpeed'] = AugData['ketamine_day']*AugData['avgTrialSpeed']\n",
    "AugData['ketamine_dayxVarianceSpeed'] = AugData['ketamine_day']*AugData['varianceSpeed']\n",
    "\n",
    "AugData['medianCellDepthxCorrelationScore'] = AugData['medianCellDepth']*AugData['correlationScore']\n",
    "AugData['medianCellDepthxLickAccuracy'] = AugData['medianCellDepth']*AugData['lickAccuracy']\n",
    "AugData['medianCellDepthxLickNumber'] = AugData['medianCellDepth']*AugData['lickNumber']\n",
    "AugData['medianCellDepthxAvgFR'] = AugData['medianCellDepth']*AugData['avgFR']\n",
    "AugData['medianCellDepthxAvgSingleCellVariance'] = AugData['medianCellDepth']*AugData['avgSingleCellVariance']\n",
    "AugData['medianCellDepthxVarianceFR'] = AugData['medianCellDepth']*AugData['varianceFR']\n",
    "AugData['medianCellDepthxAvgTrialSpeed'] = AugData['medianCellDepth']*AugData['avgTrialSpeed']\n",
    "AugData['medianCellDepthxVarianceSpeed'] = AugData['medianCellDepth']*AugData['varianceSpeed']"
   ]
  },
  {
   "cell_type": "code",
   "execution_count": 50,
   "metadata": {},
   "outputs": [
    {
     "name": "stderr",
     "output_type": "stream",
     "text": [
      "/home/browne/anaconda3/lib/python3.7/site-packages/sklearn/preprocessing/data.py:625: DataConversionWarning: Data with input dtype int64, float64 were all converted to float64 by StandardScaler.\n",
      "  return self.partial_fit(X, y)\n",
      "/home/browne/anaconda3/lib/python3.7/site-packages/sklearn/base.py:462: DataConversionWarning: Data with input dtype int64, float64 were all converted to float64 by StandardScaler.\n",
      "  return self.fit(X, **fit_params).transform(X)\n"
     ]
    }
   ],
   "source": [
    "stdNeuralDataAug = StandardScaler().fit_transform(AugData) "
   ]
  },
  {
   "cell_type": "code",
   "execution_count": 51,
   "metadata": {},
   "outputs": [],
   "source": [
    "X, X_test, y, y_test = train_test_split(stdNeuralDataAug,timeSinceKetamine.values.ravel(), test_size=0.2)"
   ]
  },
  {
   "cell_type": "code",
   "execution_count": 52,
   "metadata": {},
   "outputs": [],
   "source": [
    "# Split for cross validation, use 10 folds\n",
    "num_folds = 10\n",
    "XA = np.array(X)\n",
    "yA = np.array(y)\n",
    "X_train = []\n",
    "X_test = []\n",
    "y_train = []\n",
    "y_test = []\n",
    "kf = KFold(n_splits=num_folds)\n",
    "for train_index, test_index in kf.split(XA, yA):\n",
    "    X_train.append(XA[train_index])\n",
    "    X_test.append(XA[test_index])\n",
    "    y_train.append(yA[train_index])\n",
    "    y_test.append(yA[test_index])"
   ]
  },
  {
   "cell_type": "code",
   "execution_count": 53,
   "metadata": {},
   "outputs": [
    {
     "name": "stdout",
     "output_type": "stream",
     "text": [
      "Average RMSE across Folds: 905.7573412545744\n",
      "Average Scaled RMSE across Folds: 0.06576354367728128\n"
     ]
    }
   ],
   "source": [
    "rmse_cv = []\n",
    "for i in range(0,num_folds):\n",
    "    knn = KNeighborsRegressor(n_neighbors=5, metric='euclidean').fit(X_train[i],y_train[i])    \n",
    "    y_pred = knn.predict(X_test[i])\n",
    "    rmse_cv.append(np.sqrt(mean_squared_error(y_test[i],y_pred)))\n",
    "    \n",
    "print(\"Average RMSE across Folds:\",np.mean(rmse_cv))\n",
    "print(\"Average Scaled RMSE across Folds:\",np.mean(rmse_cv)/(max(y)-min(y)))"
   ]
  },
  {
   "cell_type": "code",
   "execution_count": 54,
   "metadata": {},
   "outputs": [],
   "source": [
    "avg_rmse = []\n",
    "for k in [1,3,5,6,7,8,10,15,20]:\n",
    "    rmse = []\n",
    "    for i in range(0,num_folds):\n",
    "        knn = KNeighborsRegressor(n_neighbors=k, metric='euclidean').fit(X_train[i],y_train[i])    \n",
    "        y_pred = knn.predict(X_test[i])\n",
    "        rmse.append(np.sqrt(mean_squared_error(y_test[i],y_pred)))\n",
    "    avg_rmse.append(np.mean(rmse))\n",
    "avg_scaled_rmse = avg_rmse/(max(y)-min(y))"
   ]
  },
  {
   "cell_type": "code",
   "execution_count": 55,
   "metadata": {},
   "outputs": [
    {
     "data": {
      "text/plain": [
       "[990.5562528635273,\n",
       " 912.405977965154,\n",
       " 905.7573412545744,\n",
       " 913.4123216584588,\n",
       " 922.4442221364354,\n",
       " 921.9807324167772,\n",
       " 927.593206409659,\n",
       " 979.3887627450247,\n",
       " 1055.5126484171924]"
      ]
     },
     "execution_count": 55,
     "metadata": {},
     "output_type": "execute_result"
    }
   ],
   "source": [
    "avg_rmse"
   ]
  },
  {
   "cell_type": "code",
   "execution_count": 57,
   "metadata": {},
   "outputs": [
    {
     "data": {
      "text/plain": [
       "array([0.07192047, 0.06624628, 0.06576354, 0.06631934, 0.06697511,\n",
       "       0.06694146, 0.06734896, 0.07110964, 0.0766367 ])"
      ]
     },
     "execution_count": 57,
     "metadata": {},
     "output_type": "execute_result"
    }
   ],
   "source": [
    "avg_scaled_rmse"
   ]
  },
  {
   "cell_type": "markdown",
   "metadata": {},
   "source": [
    "##### Augmentation gets us to best scaled rmse of 0.064 with k = 5\n",
    "Average RMSE: 905.7573412545744\n",
    "\n",
    "Average Scaled RMSE: 0.06576354"
   ]
  },
  {
   "cell_type": "code",
   "execution_count": 56,
   "metadata": {},
   "outputs": [
    {
     "data": {
      "text/plain": [
       "905.7573412545744"
      ]
     },
     "execution_count": 56,
     "metadata": {},
     "output_type": "execute_result"
    }
   ],
   "source": [
    "min(avg_rmse)"
   ]
  },
  {
   "cell_type": "code",
   "execution_count": null,
   "metadata": {},
   "outputs": [],
   "source": []
  }
 ],
 "metadata": {
  "kernelspec": {
   "display_name": "Python 3",
   "language": "python",
   "name": "python3"
  },
  "language_info": {
   "codemirror_mode": {
    "name": "ipython",
    "version": 3
   },
   "file_extension": ".py",
   "mimetype": "text/x-python",
   "name": "python",
   "nbconvert_exporter": "python",
   "pygments_lexer": "ipython3",
   "version": "3.7.4"
  }
 },
 "nbformat": 4,
 "nbformat_minor": 2
}
