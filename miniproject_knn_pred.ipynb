{
 "cells": [
  {
   "cell_type": "markdown",
   "metadata": {},
   "source": [
    "## Miniproject: Classification with k-Nearest Neighbors "
   ]
  },
  {
   "cell_type": "code",
   "execution_count": 1,
   "metadata": {},
   "outputs": [],
   "source": [
    "# packages\n",
    "import os\n",
    "import pandas as pd\n",
    "import math\n",
    "from scipy import io\n",
    "import numpy as np\n",
    "from numpy import squeeze\n",
    "from sklearn import linear_model\n",
    "from sklearn.metrics import mean_squared_error\n",
    "from sklearn.model_selection import train_test_split\n",
    "from sklearn.preprocessing import StandardScaler\n",
    "from sklearn.preprocessing import LabelEncoder\n",
    "from sklearn.model_selection import StratifiedKFold\n",
    "from sklearn.metrics import zero_one_loss\n",
    "from sklearn.metrics import accuracy_score\n",
    "from sklearn.neighbors import KNeighborsClassifier\n",
    "import matplotlib.pyplot as plt\n",
    "from matplotlib import style\n",
    "style.use('ggplot') "
   ]
  },
  {
   "cell_type": "code",
   "execution_count": 2,
   "metadata": {},
   "outputs": [
    {
     "name": "stdout",
     "output_type": "stream",
     "text": [
      "After Drop NaN\n",
      "num_rows = 4997\n"
     ]
    }
   ],
   "source": [
    "allData = pd.read_csv('sessionTrialTable.csv')\n",
    "\n",
    "# Remove any rows with nans\n",
    "allDataNN = pd.DataFrame.dropna(allData,'index')\n",
    "print(\"After Drop NaN\")\n",
    "print(\"num_rows =\",len(allDataNN))"
   ]
  },
  {
   "cell_type": "code",
   "execution_count": 3,
   "metadata": {},
   "outputs": [],
   "source": [
    "ketBool = allDataNN['ketamineAdministered']\n",
    "timeSinceKetamine = allDataNN['timeSinceKetamine']\n",
    "sessionDate = allDataNN['sessionDate']\n",
    "trialNum = allDataNN['trialNum']\n",
    "neuralData = allDataNN[['animalName', 'totalCellNum',\n",
    "       'gender', 'genotype', 'weight_g',\n",
    "       'ketamine_day', 'correlationScore', 'lickAccuracy',\n",
    "       'lickNumber', 'avgFR', 'avgSingleCellVariance',\n",
    "       'varianceFR', 'avgTrialSpeed', 'varianceSpeed',\n",
    "       'medianCellDepth']]\n",
    "\n",
    "# Convert categorical columns\n",
    "le = LabelEncoder()\n",
    "neuralData_LE = neuralData.copy()\n",
    "neuralData_LE['animalName'] = le.fit_transform(neuralData_LE['animalName'])\n",
    "neuralData_LE['gender'] = le.fit_transform(neuralData_LE['gender'])\n",
    "neuralData_LE['genotype'] = le.fit_transform(neuralData_LE['genotype'])"
   ]
  },
  {
   "cell_type": "code",
   "execution_count": 4,
   "metadata": {},
   "outputs": [],
   "source": [
    "X, X_test, y, y_test = train_test_split(neuralData_LE,ketBool.values.ravel(), test_size=0.2)"
   ]
  },
  {
   "cell_type": "code",
   "execution_count": 5,
   "metadata": {},
   "outputs": [],
   "source": [
    "# Split for cross validation, use 10 folds\n",
    "num_folds = 10\n",
    "XA = np.array(X)\n",
    "yA = np.array(y)\n",
    "X_train = []\n",
    "X_test = []\n",
    "y_train = []\n",
    "y_test = []\n",
    "skf = StratifiedKFold(n_splits=num_folds)\n",
    "for train_index, test_index in skf.split(XA, yA):\n",
    "    X_train.append(XA[train_index])\n",
    "    X_test.append(XA[test_index])\n",
    "    y_train.append(yA[train_index])\n",
    "    y_test.append(yA[test_index])"
   ]
  },
  {
   "cell_type": "code",
   "execution_count": 6,
   "metadata": {},
   "outputs": [
    {
     "name": "stdout",
     "output_type": "stream",
     "text": [
      "0.0525394045534151\n",
      "0.9474605954465849\n"
     ]
    }
   ],
   "source": [
    "# Now try KNN on whole train set: NOTE data point is included in its own nearest neighbors, so this is a bit meaningless\n",
    "# Let's start with k=5\n",
    "knn = KNeighborsClassifier(n_neighbors=5, metric='euclidean').fit(X,y)\n",
    "y_pred = knn.predict(X)\n",
    "print(zero_one_loss(y, y_pred))\n",
    "print(accuracy_score(y,y_pred))"
   ]
  },
  {
   "cell_type": "code",
   "execution_count": 7,
   "metadata": {},
   "outputs": [
    {
     "name": "stdout",
     "output_type": "stream",
     "text": [
      "Average zero-one loss across folds: 0.07880409408808806\n",
      "Average accuracy across folds: 0.921195905911912\n"
     ]
    }
   ],
   "source": [
    "zo_loss = []\n",
    "accuracy = []\n",
    "for i in range(0,num_folds):\n",
    "    knn = KNeighborsClassifier(n_neighbors=5, metric='euclidean').fit(X_train[i],y_train[i])    \n",
    "    y_pred = knn.predict(X_test[i])\n",
    "    zo_loss.append(zero_one_loss(y_test[i],y_pred))\n",
    "    accuracy.append(accuracy_score(y_test[i],y_pred))\n",
    "    \n",
    "avg_zo_loss = np.mean(zo_loss)\n",
    "avg_acc = np.mean(accuracy)\n",
    "print(\"Average zero-one loss across folds:\",avg_zo_loss)\n",
    "print(\"Average accuracy across folds:\",avg_acc)"
   ]
  },
  {
   "cell_type": "code",
   "execution_count": 8,
   "metadata": {},
   "outputs": [],
   "source": [
    "avg_zo = []\n",
    "avg_ac = []\n",
    "for k in [1,3,5,6,7,8,10,15,20]:\n",
    "    zo_loss = []\n",
    "    accuracy = []\n",
    "    for i in range(0,num_folds):\n",
    "        knn = KNeighborsClassifier(n_neighbors=k, metric='euclidean').fit(X_train[i],y_train[i])    \n",
    "        y_pred = knn.predict(X_test[i])\n",
    "        zo_loss.append(zero_one_loss(y_test[i],y_pred))\n",
    "        accuracy.append(accuracy_score(y_test[i],y_pred))\n",
    "    avg_zo.append(np.mean(zo_loss))\n",
    "    avg_ac.append(np.mean(accuracy))"
   ]
  },
  {
   "cell_type": "code",
   "execution_count": 9,
   "metadata": {},
   "outputs": [
    {
     "data": {
      "text/plain": [
       "[0.08831539415871349,\n",
       " 0.0747915752598454,\n",
       " 0.07880409408808806,\n",
       " 0.08455723942024637,\n",
       " 0.08456161601010007,\n",
       " 0.08655787536172102,\n",
       " 0.08981038475240471,\n",
       " 0.09506478634241465,\n",
       " 0.10607295670597941]"
      ]
     },
     "execution_count": 9,
     "metadata": {},
     "output_type": "execute_result"
    }
   ],
   "source": [
    "avg_zo"
   ]
  },
  {
   "cell_type": "code",
   "execution_count": 10,
   "metadata": {},
   "outputs": [
    {
     "data": {
      "text/plain": [
       "[0.9116846058412864,\n",
       " 0.9252084247401546,\n",
       " 0.921195905911912,\n",
       " 0.9154427605797537,\n",
       " 0.9154383839899,\n",
       " 0.9134421246382789,\n",
       " 0.9101896152475952,\n",
       " 0.9049352136575852,\n",
       " 0.8939270432940205]"
      ]
     },
     "execution_count": 10,
     "metadata": {},
     "output_type": "execute_result"
    }
   ],
   "source": [
    "avg_ac"
   ]
  },
  {
   "cell_type": "markdown",
   "metadata": {},
   "source": [
    "### Best model: k=5, accuracy = 0.916"
   ]
  },
  {
   "cell_type": "markdown",
   "metadata": {},
   "source": [
    "### Now what if we augment? does that help?"
   ]
  },
  {
   "cell_type": "code",
   "execution_count": 11,
   "metadata": {},
   "outputs": [
    {
     "name": "stderr",
     "output_type": "stream",
     "text": [
      "/home/browne/anaconda3/lib/python3.7/site-packages/sklearn/preprocessing/data.py:625: DataConversionWarning: Data with input dtype int64, float64 were all converted to float64 by StandardScaler.\n",
      "  return self.partial_fit(X, y)\n",
      "/home/browne/anaconda3/lib/python3.7/site-packages/sklearn/base.py:462: DataConversionWarning: Data with input dtype int64, float64 were all converted to float64 by StandardScaler.\n",
      "  return self.fit(X, **fit_params).transform(X)\n"
     ]
    }
   ],
   "source": [
    "AugData = neuralData_LE.copy()\n",
    "AugData.keys()\n",
    "\n",
    "AugData['animalNamexCorrelationScore'] = AugData['animalName']*AugData['correlationScore']\n",
    "AugData['animalNamexLickAccuracy'] = AugData['animalName']*AugData['lickAccuracy']\n",
    "AugData['animalNamexLickNumber'] = AugData['animalName']*AugData['lickNumber']\n",
    "AugData['animalNamexAvgFR'] = AugData['animalName']*AugData['avgFR']\n",
    "AugData['animalNamexAvgSingleCellVariance'] = AugData['animalName']*AugData['avgSingleCellVariance']\n",
    "AugData['animalNamexVarianceFR'] = AugData['animalName']*AugData['varianceFR']\n",
    "AugData['animalNamexAvgTrialSpeed'] = AugData['animalName']*AugData['avgTrialSpeed']\n",
    "AugData['animalNamexVarianceSpeed'] = AugData['animalName']*AugData['varianceSpeed']\n",
    "\n",
    "AugData['totalCellNumxCorrelationScore'] = AugData['totalCellNum']*AugData['correlationScore']\n",
    "AugData['totalCellNumxLickAccuracy'] = AugData['totalCellNum']*AugData['lickAccuracy']\n",
    "AugData['totalCellNumxLickNumber'] = AugData['totalCellNum']*AugData['lickNumber']\n",
    "AugData['totalCellNumxAvgFR'] = AugData['totalCellNum']*AugData['avgFR']\n",
    "AugData['totalCellNumxAvgSingleCellVariance'] = AugData['totalCellNum']*AugData['avgSingleCellVariance']\n",
    "AugData['totalCellNumxVarianceFR'] = AugData['totalCellNum']*AugData['varianceFR']\n",
    "AugData['totalCellNumxAvgTrialSpeed'] = AugData['totalCellNum']*AugData['avgTrialSpeed']\n",
    "AugData['totalCellNumxVarianceSpeed'] = AugData['totalCellNum']*AugData['varianceSpeed']\n",
    "\n",
    "AugData['genderxCorrelationScore'] = AugData['gender']*AugData['correlationScore']\n",
    "AugData['genderxLickAccuracy'] = AugData['gender']*AugData['lickAccuracy']\n",
    "AugData['genderxLickNumber'] = AugData['gender']*AugData['lickNumber']\n",
    "AugData['genderxAvgFR'] = AugData['gender']*AugData['avgFR']\n",
    "AugData['genderxAvgSingleCellVariance'] = AugData['gender']*AugData['avgSingleCellVariance']\n",
    "AugData['genderxVarianceFR'] = AugData['gender']*AugData['varianceFR']\n",
    "AugData['genderxAvgTrialSpeed'] = AugData['gender']*AugData['avgTrialSpeed']\n",
    "AugData['genderxVarianceSpeed'] = AugData['gender']*AugData['varianceSpeed']\n",
    "\n",
    "AugData['genotypexCorrelationScore'] = AugData['genotype']*AugData['correlationScore']\n",
    "AugData['genotypexLickAccuracy'] = AugData['genotype']*AugData['lickAccuracy']\n",
    "AugData['genotypexLickNumber'] = AugData['genotype']*AugData['lickNumber']\n",
    "AugData['genotypexAvgFR'] = AugData['genotype']*AugData['avgFR']\n",
    "AugData['genotypexAvgSingleCellVariance'] = AugData['genotype']*AugData['avgSingleCellVariance']\n",
    "AugData['genotypexVarianceFR'] = AugData['genotype']*AugData['varianceFR']\n",
    "AugData['genotypexAvgTrialSpeed'] = AugData['genotype']*AugData['avgTrialSpeed']\n",
    "AugData['genotypexVarianceSpeed'] = AugData['genotype']*AugData['varianceSpeed']\n",
    "\n",
    "AugData['weight_gxCorrelationScore'] = AugData['weight_g']*AugData['correlationScore']\n",
    "AugData['weight_gxLickAccuracy'] = AugData['weight_g']*AugData['lickAccuracy']\n",
    "AugData['weight_gxLickNumber'] = AugData['weight_g']*AugData['lickNumber']\n",
    "AugData['weight_gxAvgFR'] = AugData['weight_g']*AugData['avgFR']\n",
    "AugData['weight_gxAvgSingleCellVariance'] = AugData['weight_g']*AugData['avgSingleCellVariance']\n",
    "AugData['weight_gxVarianceFR'] = AugData['weight_g']*AugData['varianceFR']\n",
    "AugData['weight_gxAvgTrialSpeed'] = AugData['weight_g']*AugData['avgTrialSpeed']\n",
    "AugData['weight_gxVarianceSpeed'] = AugData['weight_g']*AugData['varianceSpeed']\n",
    "\n",
    "AugData['ketamine_dayxCorrelationScore'] = AugData['ketamine_day']*AugData['correlationScore']\n",
    "AugData['ketamine_dayxLickAccuracy'] = AugData['ketamine_day']*AugData['lickAccuracy']\n",
    "AugData['ketamine_dayxLickNumber'] = AugData['ketamine_day']*AugData['lickNumber']\n",
    "AugData['ketamine_dayxAvgFR'] = AugData['ketamine_day']*AugData['avgFR']\n",
    "AugData['ketamine_dayxAvgSingleCellVariance'] = AugData['ketamine_day']*AugData['avgSingleCellVariance']\n",
    "AugData['ketamine_dayxVarianceFR'] = AugData['ketamine_day']*AugData['varianceFR']\n",
    "AugData['ketamine_dayxAvgTrialSpeed'] = AugData['ketamine_day']*AugData['avgTrialSpeed']\n",
    "AugData['ketamine_dayxVarianceSpeed'] = AugData['ketamine_day']*AugData['varianceSpeed']\n",
    "\n",
    "AugData['medianCellDepthxCorrelationScore'] = AugData['medianCellDepth']*AugData['correlationScore']\n",
    "AugData['medianCellDepthxLickAccuracy'] = AugData['medianCellDepth']*AugData['lickAccuracy']\n",
    "AugData['medianCellDepthxLickNumber'] = AugData['medianCellDepth']*AugData['lickNumber']\n",
    "AugData['medianCellDepthxAvgFR'] = AugData['medianCellDepth']*AugData['avgFR']\n",
    "AugData['medianCellDepthxAvgSingleCellVariance'] = AugData['medianCellDepth']*AugData['avgSingleCellVariance']\n",
    "AugData['medianCellDepthxVarianceFR'] = AugData['medianCellDepth']*AugData['varianceFR']\n",
    "AugData['medianCellDepthxAvgTrialSpeed'] = AugData['medianCellDepth']*AugData['avgTrialSpeed']\n",
    "AugData['medianCellDepthxVarianceSpeed'] = AugData['medianCellDepth']*AugData['varianceSpeed']\n",
    "\n",
    "stdNeuralDataAug = StandardScaler().fit_transform(AugData) "
   ]
  },
  {
   "cell_type": "code",
   "execution_count": 35,
   "metadata": {},
   "outputs": [],
   "source": [
    "X, X_ho, y, y_ho = train_test_split(stdNeuralDataAug,ketBool.values.ravel(), test_size=0.2, random_state=2019)"
   ]
  },
  {
   "cell_type": "code",
   "execution_count": 27,
   "metadata": {},
   "outputs": [],
   "source": [
    "# Split for cross validation, use 10 folds\n",
    "num_folds = 10\n",
    "XA = np.array(X)\n",
    "yA = np.array(y)\n",
    "X_train = []\n",
    "X_test = []\n",
    "y_train = []\n",
    "y_test = []\n",
    "skf = StratifiedKFold(n_splits=num_folds)\n",
    "for train_index, test_index in skf.split(XA, yA):\n",
    "    X_train.append(XA[train_index])\n",
    "    X_test.append(XA[test_index])\n",
    "    y_train.append(yA[train_index])\n",
    "    y_test.append(yA[test_index])"
   ]
  },
  {
   "cell_type": "code",
   "execution_count": 31,
   "metadata": {},
   "outputs": [],
   "source": [
    "avg_zo = []\n",
    "avg_ac = []\n",
    "for k in [1,3,5,6,7,8,10,15,20]:\n",
    "    zo_loss = []\n",
    "    accuracy = []\n",
    "    for i in range(0,num_folds):\n",
    "        knn = KNeighborsClassifier(n_neighbors=k, metric='euclidean').fit(X_train[i],y_train[i])    \n",
    "        y_pred = knn.predict(X_test[i])\n",
    "        zo_loss.append(zero_one_loss(y_test[i],y_pred))\n",
    "        accuracy.append(accuracy_score(y_test[i],y_pred))\n",
    "    avg_zo.append(np.mean(zo_loss))\n",
    "    avg_ac.append(np.mean(accuracy))"
   ]
  },
  {
   "cell_type": "code",
   "execution_count": 32,
   "metadata": {},
   "outputs": [
    {
     "data": {
      "text/plain": [
       "[0.06780590816192601,\n",
       " 0.06078963931024571,\n",
       " 0.06379527528297052,\n",
       " 0.06830092688079302,\n",
       " 0.06879342370889821,\n",
       " 0.07155155344720908,\n",
       " 0.07205093313083208,\n",
       " 0.07330219251370322,\n",
       " 0.07580595191219947]"
      ]
     },
     "execution_count": 32,
     "metadata": {},
     "output_type": "execute_result"
    }
   ],
   "source": [
    "avg_zo"
   ]
  },
  {
   "cell_type": "code",
   "execution_count": 33,
   "metadata": {},
   "outputs": [
    {
     "data": {
      "text/plain": [
       "[0.932194091838074,\n",
       " 0.9392103606897544,\n",
       " 0.9362047247170293,\n",
       " 0.931699073119207,\n",
       " 0.9312065762911018,\n",
       " 0.928448446552791,\n",
       " 0.9279490668691679,\n",
       " 0.9266978074862969,\n",
       " 0.9241940480878006]"
      ]
     },
     "execution_count": 33,
     "metadata": {},
     "output_type": "execute_result"
    }
   ],
   "source": [
    "avg_ac"
   ]
  },
  {
   "cell_type": "markdown",
   "metadata": {},
   "source": [
    "##### Augmentation gets us to best accuracy of 0.939 with k = 3"
   ]
  },
  {
   "cell_type": "code",
   "execution_count": 34,
   "metadata": {},
   "outputs": [],
   "source": [
    "knn = KNeighborsClassifier(n_neighbors=3, metric='euclidean').fit(X,y)    \n"
   ]
  },
  {
   "cell_type": "code",
   "execution_count": 36,
   "metadata": {},
   "outputs": [],
   "source": [
    "y_pred = knn.predict(X_ho)\n",
    "zo_loss = zero_one_loss(y_ho,y_pred)\n",
    "accuracy = accuracy_score(y_ho,y_pred)"
   ]
  },
  {
   "cell_type": "code",
   "execution_count": 37,
   "metadata": {},
   "outputs": [
    {
     "data": {
      "text/plain": [
       "0.931"
      ]
     },
     "execution_count": 37,
     "metadata": {},
     "output_type": "execute_result"
    }
   ],
   "source": [
    "accuracy"
   ]
  },
  {
   "cell_type": "code",
   "execution_count": null,
   "metadata": {},
   "outputs": [],
   "source": []
  }
 ],
 "metadata": {
  "kernelspec": {
   "display_name": "Python 3",
   "language": "python",
   "name": "python3"
  },
  "language_info": {
   "codemirror_mode": {
    "name": "ipython",
    "version": 3
   },
   "file_extension": ".py",
   "mimetype": "text/x-python",
   "name": "python",
   "nbconvert_exporter": "python",
   "pygments_lexer": "ipython3",
   "version": "3.7.4"
  }
 },
 "nbformat": 4,
 "nbformat_minor": 2
}
